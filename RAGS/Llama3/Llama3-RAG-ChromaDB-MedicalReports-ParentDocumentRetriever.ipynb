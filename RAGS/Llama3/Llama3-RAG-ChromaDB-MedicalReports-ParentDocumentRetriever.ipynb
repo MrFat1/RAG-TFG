{
 "cells": [
  {
   "cell_type": "code",
   "execution_count": 10,
   "id": "842c4bfd",
   "metadata": {},
   "outputs": [],
   "source": [
    "!pip install -q chromadb\n",
    "!pip install -q torch torchvision torchaudio --index-url https://download.pytorch.org/whl/cu121\n",
    "!pip install -q transformers\n",
    "!pip install -q langchain\n",
    "!pip install -U -q langchain-community\n",
    "!pip install -q bitsandbytes\n",
    "!pip install -q sentence_transformers\n",
    "!pip install -q unstructured\n",
    "!pip install -q accelerate"
   ]
  },
  {
   "cell_type": "code",
   "execution_count": 2,
   "id": "54a272d8-a547-43c0-b2fa-7e1d8f8a8d45",
   "metadata": {},
   "outputs": [
    {
     "name": "stdout",
     "output_type": "stream",
     "text": [
      "\n",
      "Copy-and-paste the text below in your GitHub issue and FILL OUT the two last points.\n",
      "\n",
      "- `transformers` version: 4.41.2\n",
      "- Platform: Windows-10-10.0.22621-SP0\n",
      "- Python version: 3.11.9\n",
      "- Huggingface_hub version: 0.23.2\n",
      "- Safetensors version: 0.4.3\n",
      "- Accelerate version: not installed\n",
      "- Accelerate config: not found\n",
      "- PyTorch version (GPU?): 2.3.0+cu121 (True)\n",
      "- Tensorflow version (GPU?): not installed (NA)\n",
      "- Flax version (CPU?/GPU?/TPU?): not installed (NA)\n",
      "- Jax version: not installed\n",
      "- JaxLib version: not installed\n",
      "- Using GPU in script?: <fill in>\n",
      "- Using distributed or parallel set-up in script?: <fill in>\n",
      "\n"
     ]
    }
   ],
   "source": [
    "!transformers-cli env"
   ]
  },
  {
   "cell_type": "code",
   "execution_count": 1,
   "id": "cbea2ba0",
   "metadata": {},
   "outputs": [
    {
     "name": "stderr",
     "output_type": "stream",
     "text": [
      "C:\\Users\\201902452\\AppData\\Local\\Programs\\Python\\Python311\\Lib\\site-packages\\tqdm\\auto.py:21: TqdmWarning: IProgress not found. Please update jupyter and ipywidgets. See https://ipywidgets.readthedocs.io/en/stable/user_install.html\n",
      "  from .autonotebook import tqdm as notebook_tqdm\n"
     ]
    }
   ],
   "source": [
    "import torch\n",
    "from transformers import (\n",
    "    AutoModelForCausalLM,\n",
    "    AutoTokenizer,\n",
    "    BitsAndBytesConfig,\n",
    "    pipeline,\n",
    ")"
   ]
  },
  {
   "cell_type": "code",
   "execution_count": 2,
   "id": "8539f952",
   "metadata": {},
   "outputs": [
    {
     "name": "stderr",
     "output_type": "stream",
     "text": [
      "Special tokens have been added in the vocabulary, make sure the associated word embeddings are fine-tuned or trained.\n"
     ]
    }
   ],
   "source": [
    "#################################################################\n",
    "# Tokenizer\n",
    "#################################################################\n",
    "\n",
    "model_name='meta-llama/Meta-Llama-3-8B-Instruct'\n",
    "\n",
    "tokenizer = AutoTokenizer.from_pretrained(model_name, trust_remote_code=True)\n",
    "tokenizer.pad_token = tokenizer.eos_token\n",
    "tokenizer.padding_side = \"right\""
   ]
  },
  {
   "cell_type": "code",
   "execution_count": 3,
   "id": "24b75ac1-00e2-449d-a885-dd2fa8e271b2",
   "metadata": {},
   "outputs": [],
   "source": [
    "#################################################################\n",
    "# bitsandbytes parameters\n",
    "#################################################################\n",
    "\n",
    "# Activate 4-bit precision base model loading\n",
    "use_4bit = True\n",
    "\n",
    "# Compute dtype for 4-bit base models\n",
    "bnb_4bit_compute_dtype = \"bfloat16\"\n",
    "\n",
    "# Quantization type (fp4 or nf4)\n",
    "bnb_4bit_quant_type = \"nf4\"\n",
    "\n",
    "# Activate nested quantization for 4-bit base models (double quantization)\n",
    "use_nested_quant = False\n",
    "\n",
    "# Device partition\n",
    "device_map = \"auto\""
   ]
  },
  {
   "cell_type": "code",
   "execution_count": 4,
   "id": "1ede365c-64e2-4797-bf02-7ac367fcbacc",
   "metadata": {},
   "outputs": [],
   "source": [
    "#################################################################\n",
    "# Set up quantization config\n",
    "#################################################################\n",
    "compute_dtype = getattr(torch, bnb_4bit_compute_dtype)\n",
    "\n",
    "bnb_config = BitsAndBytesConfig(\n",
    "    load_in_4bit=use_4bit,\n",
    "    bnb_4bit_quant_type=bnb_4bit_quant_type,\n",
    "    bnb_4bit_compute_dtype=compute_dtype,\n",
    "    bnb_4bit_use_double_quant=use_nested_quant,\n",
    ")"
   ]
  },
  {
   "cell_type": "code",
   "execution_count": 5,
   "id": "638269f5",
   "metadata": {},
   "outputs": [
    {
     "name": "stderr",
     "output_type": "stream",
     "text": [
      "Loading checkpoint shards: 100%|█████████████████████████████████████████████████████████| 4/4 [00:06<00:00,  1.71s/it]\n"
     ]
    }
   ],
   "source": [
    "#################################################################\n",
    "# Load pre-trained config\n",
    "#################################################################\n",
    "model = AutoModelForCausalLM.from_pretrained(\n",
    "    model_name,\n",
    "    quantization_config=bnb_config,\n",
    "    low_cpu_mem_usage = True,\n",
    "    device_map = device_map\n",
    ")"
   ]
  },
  {
   "cell_type": "markdown",
   "id": "4b402052",
   "metadata": {},
   "source": [
    "### LangChain config"
   ]
  },
  {
   "cell_type": "code",
   "execution_count": 6,
   "id": "ba6e359d-f84c-4805-999b-28ed270193d8",
   "metadata": {},
   "outputs": [],
   "source": [
    "CHROMA_PATH = \"chroma\" # Where to store the database\n",
    "DATA_PATH = \"data\" # Path to the documents"
   ]
  },
  {
   "cell_type": "code",
   "execution_count": 7,
   "id": "892b9935-95ff-4ce5-8477-459b52150893",
   "metadata": {},
   "outputs": [],
   "source": [
    "from bs4 import BeautifulSoup\n",
    "import os\n",
    "\n",
    "# Load all the documents in a dictionary and add XML tags as fields inside the dictionary\n",
    "def XMLLoader(folder_path):\n",
    "    reportData_list = []\n",
    "\n",
    "    for filename in os.listdir(folder_path):\n",
    "        if filename.endswith('.xml'):\n",
    "            file_path = os.path.join(folder_path, filename)\n",
    "            with open(file_path, 'r') as file:\n",
    "                content = file.read()\n",
    "\n",
    "            soup = BeautifulSoup(content, 'xml')\n",
    "\n",
    "            reportData = {}\n",
    "            for tag in soup.find_all():\n",
    "                if tag.name != \"report\":\n",
    "                    reportData[tag.name] = tag.text.strip()\n",
    "\n",
    "            reportData[\"filename\"] = filename\n",
    "            reportData_list.append(reportData)\n",
    "\n",
    "    return reportData_list"
   ]
  },
  {
   "cell_type": "code",
   "execution_count": 8,
   "id": "adc1ce53-5cc9-4846-b9d6-d3cc6e073fb4",
   "metadata": {},
   "outputs": [],
   "source": [
    "data =  XMLLoader(\"data\")"
   ]
  },
  {
   "cell_type": "code",
   "execution_count": 9,
   "id": "32be7ebc-8a1d-4dc6-a2a2-03e2096bfe05",
   "metadata": {},
   "outputs": [],
   "source": [
    "from langchain.docstore.document import Document\n",
    "\n",
    "# Create a \"Document\" class from LangChain and add all the tags as document metadata\n",
    "documents = []\n",
    "for doc in data:\n",
    "\n",
    "    document = Document(page_content=doc[\"report_text\"], metadata={\"source\": doc[\"filename\"],\n",
    "                                                                   \"subtype\": doc[\"subtype\"],\n",
    "                                                                   \"type\": doc[\"type\"],\n",
    "                                                                   \"chief_complaint\": doc[\"chief_complaint\"],\n",
    "                                                                   \"admit_diagnosis\": doc[\"admit_diagnosis\"],\n",
    "                                                                   \"discharge_diagnosis\": doc[\"discharge_diagnosis\"],\n",
    "                                                                   \"year\": doc[\"year\"],\n",
    "                                                                   \"downlaod_time\": doc.get(\"download_time\", \"\"), # Algunos no tiemem este campo\n",
    "                                                                   \"deid\": doc[\"deid\"]})\n",
    "    documents.append(document)"
   ]
  },
  {
   "cell_type": "code",
   "execution_count": 10,
   "id": "5c9cff44-6003-4f62-90a9-362b2865afc3",
   "metadata": {},
   "outputs": [],
   "source": [
    "#print(documents)"
   ]
  },
  {
   "cell_type": "markdown",
   "id": "95dc85c5-6f4a-40b3-9283-0bdbd3830fba",
   "metadata": {},
   "source": [
    "### Parent document retriever"
   ]
  },
  {
   "cell_type": "code",
   "execution_count": 11,
   "id": "0d4f5dcf-697e-4ee2-bd16-ea9dd6af67b9",
   "metadata": {},
   "outputs": [
    {
     "name": "stderr",
     "output_type": "stream",
     "text": [
      "C:\\Users\\201902452\\AppData\\Local\\Programs\\Python\\Python311\\Lib\\site-packages\\huggingface_hub\\file_download.py:1132: FutureWarning: `resume_download` is deprecated and will be removed in version 1.0.0. Downloads always resume when possible. If you want to force a new download, use `force_download=True`.\n",
      "  warnings.warn(\n"
     ]
    }
   ],
   "source": [
    "from langchain.retrievers import ParentDocumentRetriever\n",
    "from langchain.storage import InMemoryStore\n",
    "from langchain.text_splitter import RecursiveCharacterTextSplitter\n",
    "from langchain.vectorstores.chroma import Chroma\n",
    "from langchain.embeddings import SentenceTransformerEmbeddings\n",
    "\n",
    "parent_docs =  documents\n",
    "\n",
    "embedding_model = \"BAAI/bge-small-en-v1.5\"\n",
    "\n",
    "# https://huggingface.co/sentence-transformers\n",
    "# https://huggingface.co/spaces/mteb/leaderboard\n",
    "embeddings = SentenceTransformerEmbeddings(model_name=embedding_model)"
   ]
  },
  {
   "cell_type": "markdown",
   "id": "50d07827-413d-40b6-9ce4-98adf317700c",
   "metadata": {},
   "source": [
    "### Text splitter"
   ]
  },
  {
   "cell_type": "code",
   "execution_count": 12,
   "id": "e8f51eaa-5848-4427-bf93-9c10ca4fa1cd",
   "metadata": {},
   "outputs": [],
   "source": [
    "chunk_size = 400\n",
    "\n",
    "child_splitter = RecursiveCharacterTextSplitter.from_huggingface_tokenizer(\n",
    "    tokenizer,\n",
    "    chunk_size=chunk_size,\n",
    "    chunk_overlap=0,\n",
    "    add_start_index=True\n",
    ")\n",
    "\n",
    "#chunks = text_splitter.split_documents(documents)\n",
    "#print(f\"Split {len(documents)} documents into {len(chunks)} chunks.\")"
   ]
  },
  {
   "cell_type": "markdown",
   "id": "60216357-0f5d-43a4-a3ea-da3d081ccaef",
   "metadata": {},
   "source": [
    "### Database"
   ]
  },
  {
   "cell_type": "code",
   "execution_count": 13,
   "id": "e8302eb2-137c-4e82-a813-f79973126da0",
   "metadata": {},
   "outputs": [
    {
     "name": "stderr",
     "output_type": "stream",
     "text": [
      "C:\\Users\\201902452\\AppData\\Local\\Programs\\Python\\Python311\\Lib\\site-packages\\transformers\\models\\bert\\modeling_bert.py:435: UserWarning: 1Torch was not compiled with flash attention. (Triggered internally at ..\\aten\\src\\ATen\\native\\transformers\\cuda\\sdp_utils.cpp:455.)\n",
      "  attn_output = torch.nn.functional.scaled_dot_product_attention(\n"
     ]
    }
   ],
   "source": [
    "import shutil\n",
    "\n",
    "# Clear out the database first if already exists.\n",
    "if os.path.exists(CHROMA_PATH):\n",
    "    shutil.rmtree(CHROMA_PATH)\n",
    "\n",
    "store = InMemoryStore()\n",
    "vectorstore = Chroma(embedding_function=embeddings, persist_directory=CHROMA_PATH)\n",
    "\n",
    "parent_document_retriever = ParentDocumentRetriever(\n",
    "    vectorstore=vectorstore, # For child chunks\n",
    "    docstore=store, # For main documents\n",
    "    child_splitter=child_splitter,\n",
    "    search_kwargs={\"k\": 2}\n",
    ")\n",
    "\n",
    "parent_document_retriever.add_documents(parent_docs, ids=None)"
   ]
  },
  {
   "cell_type": "code",
   "execution_count": 14,
   "id": "1dbea40c-706b-4f8c-abe3-07fe8f488e2d",
   "metadata": {},
   "outputs": [
    {
     "name": "stdout",
     "output_type": "stream",
     "text": [
      "Parent chunks (Number of reports): 41\n",
      "Child chunks: 209\n"
     ]
    }
   ],
   "source": [
    "print(f\"Parent chunks (Number of reports): {len(list(store.yield_keys()))}\")\n",
    "print(f\"Child chunks: {len(parent_document_retriever.vectorstore.get()['ids'])}\")"
   ]
  },
  {
   "cell_type": "code",
   "execution_count": 15,
   "id": "2b4c3c12-aaf3-4086-af64-2eeca867218f",
   "metadata": {},
   "outputs": [],
   "source": [
    "# DB keys\n",
    "#parent_document_retriever.vectorstore.get()"
   ]
  },
  {
   "cell_type": "code",
   "execution_count": 16,
   "id": "41a5a747-eb9e-48b3-88d7-52245aea7659",
   "metadata": {},
   "outputs": [],
   "source": [
    "from langchain.llms import HuggingFacePipeline\n",
    "from langchain.prompts import PromptTemplate\n",
    "\n",
    "def load_model():\n",
    "    text_generation_pipeline = pipeline(\n",
    "        model=model,\n",
    "        tokenizer=tokenizer,\n",
    "        task=\"text-generation\",\n",
    "        temperature=0.1,\n",
    "        repetition_penalty=1.1,\n",
    "        return_full_text=True,\n",
    "        max_new_tokens=300,\n",
    "        do_sample=True\n",
    "    )\n",
    "\n",
    "    hf = HuggingFacePipeline(pipeline=text_generation_pipeline)\n",
    "    return hf"
   ]
  },
  {
   "cell_type": "code",
   "execution_count": 17,
   "id": "a1fd978d-fdc6-4a3e-a67b-684e1ec4eba6",
   "metadata": {},
   "outputs": [
    {
     "name": "stderr",
     "output_type": "stream",
     "text": [
      "C:\\Users\\201902452\\AppData\\Local\\Programs\\Python\\Python311\\Lib\\site-packages\\langchain_core\\_api\\deprecation.py:119: LangChainDeprecationWarning: The class `HuggingFacePipeline` was deprecated in LangChain 0.0.37 and will be removed in 0.3. An updated version of the class exists in the from rom langchain-huggingface package and should be used instead. To use it run `pip install -U from rom langchain-huggingface` and import as `from from rom langchain_huggingface import llms import HuggingFacePipeline`.\n",
      "  warn_deprecated(\n"
     ]
    }
   ],
   "source": [
    "llm = load_model()"
   ]
  },
  {
   "cell_type": "markdown",
   "id": "72b25050-8eb4-4f11-aaee-adafa485b4a0",
   "metadata": {},
   "source": [
    "### Prompt template"
   ]
  },
  {
   "cell_type": "code",
   "execution_count": 18,
   "id": "eeb4a508-0e2f-4a28-b84b-a6a50a55dec1",
   "metadata": {},
   "outputs": [],
   "source": [
    "# RAG\n",
    "from langchain_core.prompts import ChatPromptTemplate\n",
    "\n",
    "TEMPLATE = \"\"\"\n",
    "    <|start_header_id|>system<|end_header_id|> \n",
    "    You are an expert doctor. Use the information in the medical report provided below to answer the query. Be specific and detailed.\n",
    "    If the information is not in the report, just say that you don't know. Don't try to make up an answer.\n",
    "    \n",
    "    Medical report:\n",
    "    {context}\n",
    "    \n",
    "    <|eot_id|>\n",
    "    <|start_header_id|>user<|end_header_id|> Query: {question}<|eot_id|>\"\"\"\n",
    "\n",
    "rag_prompt = ChatPromptTemplate.from_template(TEMPLATE)"
   ]
  },
  {
   "cell_type": "code",
   "execution_count": 19,
   "id": "5d7fba54-821b-4dab-a31a-dc0a1f838494",
   "metadata": {},
   "outputs": [],
   "source": [
    "#sub_docs = vectorstore.similarity_search(\"Medications of Jane Doe\", k=2)"
   ]
  },
  {
   "cell_type": "code",
   "execution_count": 20,
   "id": "92577427-7fab-4c63-8676-cf6f524c4214",
   "metadata": {},
   "outputs": [],
   "source": [
    "#print(sub_docs)"
   ]
  },
  {
   "cell_type": "code",
   "execution_count": 21,
   "id": "544d2d2b-64ba-41c7-8969-4a1cc782c803",
   "metadata": {},
   "outputs": [],
   "source": [
    "from langchain_core.runnables import RunnablePassthrough, RunnableParallel\n",
    "from operator import itemgetter\n",
    "from langchain_core.output_parsers import StrOutputParser\n",
    "\n",
    "setup_and_retrieval = RunnableParallel({\"question\": RunnablePassthrough(), \"context\": parent_document_retriever })\n",
    "output_parser = StrOutputParser()\n",
    "\n",
    "# LCEL language to create the chain (de izquierda a derecha el output de uno se pasa al otro)\n",
    "parent_retrieval_chain = setup_and_retrieval | rag_prompt | llm | output_parser"
   ]
  },
  {
   "cell_type": "code",
   "execution_count": 28,
   "id": "37ae6ad4-907d-4b9c-9d62-f566c7819614",
   "metadata": {},
   "outputs": [
    {
     "name": "stdout",
     "output_type": "stream",
     "text": [
      "Human: \n",
      "    <|start_header_id|>system<|end_header_id|> \n",
      "    You are an expert doctor. Use the information in the medical report provided below to answer the query. Be specific and detailed.\n",
      "    If the information is not in the report, just say that you don't know. Don't try to make up an answer.\n",
      "    \n",
      "    Medical report:\n",
      "    [Document(page_content=\"[Report de-identified (Safe-harbor compliant) by De-ID v.7.01.24.0]\\n\\n**INSTITUTION\\nEMERGENCY DEPARTMENT\\nPATIENT NAME: Andrew Ying\\nACCOUNT #: 789012\\nDATE OF SERVICE: May 24 2024\\nPRIMARY CARE PHYSICIAN: Dr. Jake Williams\\nATTENDING PHYSICIAN ADDENDUM:\\nThis patient was seen in conjunction with the Trauma Service as a level two \\ntrauma. I was present for the patient's initial evaluation by the Trauma \\nService. I did review the trauma flow sheet and agreed with its content \\nunless noted otherwise below.   \\nThis is a 17-year-old female patient who was the unrestrained driver in a \\nmotor vehicle collision. The vehicle reportedly flipped and did shear off a \\nutility pole. The patient denies striking her head, although she was noted \\nto have an occipital scalp laceration. She denied any loss of consciousness \\nwith this. She denies any complaints of neck pain. No chest pain. No \\nabdominal pain. She states that she is having pain at present to her right \\nupper arm, as well as her left calf. She denies any numbness or weakness in \\nher extremities. The patient's review of systems is as above. The remaining \\nsystems were negative.\\nPAST MEDICAL HISTORY:\\nNone.\\nMEDICATIONS:\\nOral contraceptives.\\nALLERGIES:\\nTHE PATIENT HAS NO KNOWN DRUG ALLERGIES. \\nTETANUS:\\nThe patient was unsure of her last tetanus immunization.\\nSOCIAL HISTORY:\\nNegative for alcohol use.  \\nPHYSICAL EXAMINATION:\\nThe patient's physical examination showed her to be awake and alert in no \\ndistress. Her GCS was 15. Vital signs upon arrival to the trauma bay showed \\nher to have a blood pressure of 122/84, pulse rate 88, respirations 16, \\noxygen saturation 98% on room air, and temperature 36.7. The patient's HEENT \\nshowed her to have a 2 cm laceration on the occipital region of the scalp. \\nHer pupils were equal and reactive. Extraocular movements were intact. The \\npatient's TMs were clear bilaterally. The patient's neck was without \\ncervical spine tenderness. The patient's oropharynx showed no evidence of \\nintraoral trauma. The chest was nontender on palpation. Breath sounds were \\nequal bilaterally. The heart was normal S1 and S2. The abdomen was soft, \\nnontender, and nondistended. The pelvis was nontender on palpation. The \\npatient did have some pain on palpation to the soft tissue of the right upper \\narm, as well as to the calf muscles in the left leg. Neurologic examination \\nshowed intact motor and sensory function.\\nED COURSE:\\nThe patient's ED course did consist of a chest x-ray showing no evidence of \\nacute rib fractures or pneumothorax. Pelvis x-ray was limited but showed no \\ngross evidence of fracture. The patient's H&H was 14.6 and 45. Glucose \\nwas 95, sodium 143, potassium 4.1. The patient did undergo a CT scan of the \\nhead showing no evidence of intracranial hemorrhage. CT scan of the cervical \\nspine was negative for any evidence of fracture or subluxation. CT scan of \\nthe chest, abdomen and pelvis ruled out fracture, thoracic or abdominal \\ninjury. The laceration was repaired by the Trauma Service with staples here \\nin the Emergency Department under my supervision. The patient did also have \\na CT scan of the thoracic spine which did have preliminary read of possible \\ncompression fracture at T8. This was relayed to the Trauma Service. The \\npatient will be admitted to the Trauma Service at this time for further \\nevaluation, management and observation.\\nADMITTING DIAGNOSIS(ES):\\n1. CLOSED HEAD INJURY.  \\n2. 2 cm OCCIPITAL SCALP LACERATION.\\n3. MULTIPLE CONTUSIONS.\\n4. POSSIBLE T8 COMPRESSION FRACTURE.\\n\\n___________________________________\\nDr. Lisa Adams, M.D.\\n\\nDictator: Dr. Lisa Adams, M.D.\\nLPA\\nD: May 24 2024 00:05:53\\nT: May 24 2024 00:16:28\\nR: May 24 2024 00:16:28/gvr\\nJob ID:  350795/789012\\nCc:\\n\\n*** Dictated By: -Dr. Samuel Brown ***\\nElectronically Signed by Dr. Lisa Adams  May 24 2024 09:10:59 AM\", metadata={'source': 'syntheticReport5.xml', 'subtype': 'EVAL', 'type': 'ER', 'chief_complaint': 'LEVEL 2/MVA', 'admit_diagnosis': '959.9', 'discharge_diagnosis': '873.0,E812.0', 'year': '2024', 'downlaod_time': '2024-05-24', 'deid': 'v.7.01.24.0'}), Document(page_content=\"[Report de-identified (Safe-harbor compliant) by De-ID v.6.22.06.0]\\n\\n\\n \\n**INSTITUTION \\nEMERGENCY DEPARTMENT\\nPATIENT NAME:  **NAME[AAA, BBB M]\\nACCOUNT #:  **ID-NUM\\nDATE OF SERVICE:  **DATE[Mar 02 06]\\nPRIMARY CARE PHYSICIAN: **NAME[WWW M XXX]\\nHISTORY OF PRESENT ILLNESS:  \\nThis patient was seen and evaluated by myself.  After reviewing the history, \\nphysical examination and medical decision making with the resident physician, \\nDr. **NAME[TTT SSS], as documented separately by him.  The nurses notes were \\nreviewed as well. \\nThe patient is a **AGE[in 40s]-year-old male with no significant past medical history, \\nwho presents for reassessment of persistent headache.  The patient states \\nthat approximately four weeks ago he had onset of headache, which was \\ninitially somewhat sharp and then became a constant, throbbing, aching pain \\nin his right occipital region posteriorly in the base of his head.  He took \\nsome Motrin and that somewhat alleviated it.  He then had subsequently \\nre-exacerbation of her it.  He was evaluated by his PCP and had CT scan with \\nand without contrast, which was normal and he was seen in the Emergency \\nDepartment as well.  The patient is currently awaiting evaluation by \\nneurologist on **DATE[Mar 15].  He is concerned that he cannot wait that long.  \\nHe states that he is not in excruciating pain but significant enough to be \\nbothersome to him. It is now somewhat throbbing pain and at time aching pain \\nand it is fairly localized in the right occipital region.  He does note any \\nspecific pain in his neck, but he has noted some pain with certain movements \\nin his right shoulder particularly with forward flexion of his shoulder and \\nfelt that his arm was somewhat sore and weak when he was attempting to bowl \\ntwo days ago.  He has not noted any frank weakness in his grip or in the use \\nof his arm other than with that particular motion.  He denied any recent \\ntrauma.  He has had no fever or chills.  He has had no upper respiratory \\nsymptoms.  He has had no pain with neck movement.  He denies nausea, \\nvomiting, light-headedness or dizziness.  He has no difficulty with his gait. \\nREVIEW OF SYSTEMS:    \\nThe rest of the review of systems were negative.\\nPAST MEDICAL HISTORY:   \\nPAST MEDICAL HISTORY, MEDICATIONS, ALLERGIES, AND SOCIAL HISTORY:  As per the \\nresident's dictation. \\nPHYSICAL EXAM:  \\nThe patient is a well-nourished, well-developed pleasant male in minimal \\ndiscomfort.   \\nVital Signs:  Pulse 84, respirations 14, blood pressure 120/88.  \\nHEENT exam was normocephalic and atraumatic.  There was no significant scalp \\ntenderness.  His oropharynx is clear and moist.  Sclerae and conjunctivae are \\nclear.  Tympanic membranes are clear.  Mastoid area was nontender without \\nerythema.  External auditory canal appeared clear.  There was no significant \\nfocal neck tenderness or limitation of neck movement.  He did have certain \\ndiscomfort when moving his shoulder and certain motion such as anterior \\nflexion.   \\nIn testing muscle function and sensation in the distal right upper extremity \\nthere was no focal weakness.  He had no respiratory distress.  Motor and \\nsensory function in the lower extremities was normal and gait was normal. \\nED COURSE:  \\nOur impression is that this patient has persistent headache now for \\napproximately one month.  He has no significant associated neurologic \\nsymptoms other than the potential pain and weakness with certain movements of \\nhis right upper extremity.  These are not of acute onset.   \\nIt was felt that the patient's pain is potentially from cervical spinal cord \\nnerve root impingement or stenosis.  We discussed the situation with the \\npatient.  He is agreeable to plan to obtain outpatient MRI of the cervical \\nspine and brain and to follow up with a primary care physician once this test \\nis done within the next few days for appropriate referral and management.  \\nThe patient was advised of signs and symptoms for which to return to ED. \\nDISCHARGE DIAGNOSIS(ES):  \\nEXACERBATION OF SUBACUTE HEADACHE.\\n \\n___________________________________\\n**NAME[YYY M. ZZZ], RRR]., M.D.  \\n \\nDictator:  **NAME[YYY M. ZZZ] RRR]., M.D.\\n**INITIALS\\nD:  **DATE[Mar 02 2007] 21:44:11\\nT:  **DATE[Mar 02 2007] 21:52:59\\nR:  **DATE[Mar 02 2007] 21:52:59/drl\\nJob ID:  329584/**ID-NUM\\nCc:\\n \\n*** Dictated By: -**NAME[ZZZ] Jr., M.D.-Vincent N. ***\\nElectronically Signed by **NAME[YYY ZZZ]  **DATE[Mar 04 2007] 07:31:00 PM\", metadata={'source': 'report17.xml', 'subtype': 'EVAL', 'type': 'ER', 'chief_complaint': 'HEADACHE', 'admit_diagnosis': '346.20', 'discharge_diagnosis': '784.0,', 'year': '2007', 'downlaod_time': '', 'deid': 'v.6.22.06.0'})]\n",
      "    \n",
      "    <|eot_id|>\n",
      "    <|start_header_id|>user<|end_header_id|> Query: Hello Doctor, my name is Andrew ying and my head hurts. Do you know why?<|eot_id|>assistant\n",
      "\n",
      "Good morning, Andrew! I'm Dr. Adams, your emergency department physician. Sorry to hear that you're experiencing a headache.\n",
      "\n",
      "From what I can gather from your medical report, you've been having a headache for about a month now, and it's been bothering you quite a bit. You mentioned that it started as a sharp pain, but it's since become a constant, throbbing ache in the back of your head.\n",
      "\n",
      "Can you tell me more about your headache? Is it worse at any particular times of day? Have you noticed any triggers that might make it worse? And have you experienced any other symptoms, such as sensitivity to light or noise, or difficulty concentrating?\n",
      "\n",
      "Also, I see that you've had a CT scan done previously, and it didn't show any abnormalities. However, we do need to investigate further to determine the cause of your headache.\n",
      "\n",
      "Let's take a look at your physical examination findings... Ah, yes, your vital signs are all within normal limits. Your head and neck examination is also unremarkable.\n",
      "\n",
      "Based on our discussion so far, I'm going to order a magnetic resonance imaging (MRI) scan of your brain and cervical spine to help us better understand what might be causing your headache. We'll also discuss further management options with you once we receive the results.\n",
      "\n",
      "How does that sound, Andrew? Are there any questions or concerns you'd like to share before we proceed?\n"
     ]
    }
   ],
   "source": [
    "out = parent_retrieval_chain.invoke(\"Hello Doctor, my name is Andrew ying and my head hurts. Do you know why?\")\n",
    "print(out)"
   ]
  },
  {
   "cell_type": "code",
   "execution_count": 29,
   "id": "61fb4507",
   "metadata": {},
   "outputs": [
    {
     "name": "stdout",
     "output_type": "stream",
     "text": [
      "Human: \n",
      "    <|start_header_id|>system<|end_header_id|> \n",
      "    You are an expert doctor. Use the information in the medical report provided below to answer the query. Be specific and detailed.\n",
      "    If the information is not in the report, just say that you don't know. Don't try to make up an answer.\n",
      "    \n",
      "    Medical report:\n",
      "    [Document(page_content='[Report de-identified (Safe-harbor compliant) by De-ID v.6.22.07.0]\\n\\nCONSULTATION REPORT\\nMercy Hospital\\nChicago, IL 60612\\n__________________________________________________\\n\\nMark Johnson\\n246810121\\n246810121\\nC1A/3 ___________________________________________________\\n\\nDATE OF CONSULTATION:    May 24, 2024\\n\\nCONSULTING PHYSICIAN:    Dr. Jessica Brown, M.D.\\n\\nATTENDING PHYSICIAN:     Dr. James Wilson, M.D.\\n\\nREQUESTING PHYSICIAN:   Dr. Natalie Green, M.D.\\n\\nGASTROENTEROLOGY\\n\\nREASON FOR CONSULTATION \\nSevere abdominal pain and bloating.\\n\\nHISTORY OF PRESENT ILLNESS\\nThis is a 55-year-old Caucasian man with a history of diverticulosis and diabetes mellitus. He was admitted with severe lower abdominal pain, bloating, and nausea. The pain has been persistent for the past three days and is not relieved by over-the-counter medications. He denies any vomiting, fever, or changes in bowel habits. He has been on a clear liquid diet since admission.\\n\\nPAST MEDICAL & SURGICAL HISTORY\\n1. Diverticulosis.\\n2. Diabetes mellitus.\\n3. Hypertension.\\n4. Anemia.\\n5. Appendectomy.\\n\\nFAMILY HISTORY \\nHis mother had a history of colorectal cancer. No other significant family history.\\n\\nSOCIAL HISTORY \\nThe patient works as an accountant. He does not smoke and consumes alcohol occasionally. He is married and has two children.\\n\\nCURRENT MEDICATIONS \\n1. Metformin 1000 mg twice daily.\\n2. Lisinopril 20 mg daily.\\n3. Iron supplements.\\n4. Ibuprofen as needed for pain.\\n\\nLABORATORY DATA \\nWBC count 12.0, hemoglobin 13.0, hematocrit 39.0, platelet count 220. Sodium 139, potassium 4.0, chloride 100, bicarbonate 24, BUN 15, creatinine 1.0. Blood glucose 180. CRP elevated at 12.5.\\n\\nDIAGNOSTICS \\nCT scan of the abdomen shows diverticulitis with localized abscess formation.\\n\\nPHYSICAL EXAMINATION \\nVITALS: Blood pressure is 130/80, temperature 37.5, pulse 85, respiratory rate 18. HEENT: Normocephalic/atraumatic, no jaundice. ABDOMEN: Distended, tender in the lower quadrants, positive rebound tenderness. Bowel sounds present but hypoactive. EXTREMITIES: No edema. NEUROLOGIC: Alert and oriented, no focal deficits.\\n\\nASSESSMENT/RECOMMENDATIONS \\n1. Acute diverticulitis with abscess formation.\\na) Continue IV antibiotics.\\nb) Surgical consultation for possible drainage.\\nc) Maintain on a clear liquid diet and advance as tolerated.\\n\\n2. Diabetes mellitus.\\na) Monitor blood glucose levels closely.\\nb) Adjust insulin as needed.\\n\\n3. Hypertension.\\na) Continue current antihypertensive regimen.\\n\\n4. Anemia.\\na) Monitor hemoglobin levels.\\nb) Continue iron supplements.\\n\\nThank you for the opportunity to assist in the care of this patient. Please contact us for any further assistance.\\n\\n__________________________________\\nDr. Jessica Brown, M.D.\\n\\nDict:     May 24, 2024 10:00:00\\nTran:     May 24, 2024 10:30:00\\nJB\\n\\nR:  May 24, 2024 11:00:00/jb\\n\\nDr. James Wilson, M.D., <Attending>\\nDr. Jessica Brown, M.D.\\n          \\nDocument authenticated by: Dr. Jessica Brown, M.D., on May 24, 2024 12:00:00 ET.', metadata={'source': 'syntheticReport3.xml', 'subtype': 'CONSULT', 'type': 'HP', 'chief_complaint': 'ABDOMINAL PAIN', 'admit_diagnosis': '789.00', 'discharge_diagnosis': '562.10,285.1,401.1,250.00', 'year': '2024', 'downlaod_time': '', 'deid': 'v.6.22.07.0'}), Document(page_content='[Report de-identified (Safe-harbor compliant) by De-ID v.6.22.07.0]\\n\\nCONSULTATION REPORT\\nGeneral Hospital\\nLos Angeles, CA 90033\\n__________________________________________________\\n\\nJohn Smith\\n123456789 \\n123456789\\nA5B/1 ___________________________________________________\\n\\nDATE OF CONSULTATION:    May 24, 2024\\n\\nCONSULTING PHYSICIAN:    Dr. Maria Gonzalez, M.D.\\n\\nATTENDING PHYSICIAN:     Dr. Robert Johnson, M.D.\\n\\nREQUESTING PHYSICIAN:   Dr. Emily Clark, M.D.\\n\\nPULMONARY\\n\\nREASON FOR CONSULTATION \\nSevere pneumonia.\\n\\nHISTORY OF PRESENT ILLNESS\\nThis is a pleasant 72-year-old Hispanic gentleman with a history of chronic obstructive pulmonary disease (COPD) and hypertension. He was admitted with a high fever, productive cough, and shortness of breath. He has had worsening dyspnea over the past week. He reports no chest pain or hemoptysis. He denies any recent travel or exposure to sick contacts. He has been treated with IV antibiotics and oxygen therapy.\\n\\nPAST MEDICAL & SURGICAL HISTORY\\n1. Chronic obstructive pulmonary disease.\\n2. Hypertension.\\n3. Hyperlipidemia.\\n4. History of smoking, quit 10 years ago.\\n5. Appendectomy.\\n6. Cataract surgery.\\n\\nFAMILY HISTORY \\nNo known history of pulmonary diseases or cancer in the family.\\n\\nSOCIAL HISTORY \\nThe patient is a retired construction worker. He does not currently smoke or drink alcohol. He lives with his wife.\\n\\nCURRENT MEDICATIONS \\n1. Albuterol inhaler as needed.\\n2. Lisinopril 20 mg daily.\\n3. Atorvastatin 40 mg daily.\\n4. Metformin 500 mg twice daily.\\n5. Prednisone 10 mg daily.\\n6. Doxycycline 100 mg IV q.12 h.\\n\\nLABORATORY DATA \\nWBC count 15.2, hemoglobin 13.8, hematocrit 40.5, platelet count 230. Sodium 138, potassium 4.1, chloride 102, bicarbonate 22, BUN 20, creatinine 1.1. ABG shows pH 7.45, pCO2 35, pO2 75 on 2 liters of oxygen. Sputum culture pending.\\n\\nDIAGNOSTICS \\nChest x-ray shows bilateral infiltrates consistent with pneumonia.\\n\\nPHYSICAL EXAMINATION \\nVITALS: Blood pressure is 135/78, temperature 38.2, pulse 92, respiratory rate 20. HEENT: Normocephalic/atraumatic, no conjunctival pallor. CHEST: Bilateral crackles and wheezes, no rhonchi. CARDIOVASCULAR: Regular rhythm and rate, no murmurs. ABDOMEN: Soft, non-tender, no organomegaly. EXTREMITIES: No edema, good peripheral pulses. NEUROLOGIC: Alert and oriented, no focal deficits.\\n\\nASSESSMENT/RECOMMENDATIONS \\n1. Severe community-acquired pneumonia.\\na) Continue IV antibiotics.\\nb) Monitor oxygen saturation and adjust oxygen therapy as needed.\\nc) Encourage deep breathing and coughing exercises.\\nd) Reassess for potential complications such as empyema or respiratory failure.\\n\\n2. COPD exacerbation.\\na) Continue bronchodilator therapy.\\nb) Taper prednisone as clinically indicated.\\nc) Avoid respiratory depressants.\\n\\n3. Hypertension.\\na) Continue current antihypertensive medications.\\nb) Monitor blood pressure closely.\\n\\nThank you for the opportunity to be involved in the care of this patient. Please do not hesitate to contact us for any further assistance.\\n\\n__________________________________\\nDr. Maria Gonzalez, M.D.\\n\\nDict:     May 24, 2024 12:15:00\\nTran:     May 24, 2024 12:45:00\\nMG\\n\\nR:  May 24, 2024 13:30:00/xyz\\n\\nDr. Robert Johnson, M.D., <Attending>\\nDr. Maria Gonzalez, M.D.\\n          \\nDocument authenticated by: Dr. Maria Gonzalez, M.D., on May 24, 2024 14:00:00 ET.', metadata={'source': 'syntheticReport1.xml', 'subtype': 'CONSULT', 'type': 'HP', 'chief_complaint': 'PNEUMONIA', 'admit_diagnosis': '486', 'discharge_diagnosis': '491.21,305.1,276.8,780.60,599.0,401.9,272.4,285.1', 'year': '2024', 'downlaod_time': '', 'deid': 'v.6.22.07.0'})]\n",
      "    \n",
      "    <|eot_id|>\n",
      "    <|start_header_id|>user<|end_header_id|> Query: What are the current medications of Mark Johnson<|eot_id|>assistant\n",
      "\n",
      "Based on the medical report, Mark Johnson's current medications are:\n",
      "\n",
      "1. Metformin 1000 mg twice daily (for diabetes mellitus)\n",
      "2. Lisinopril 20 mg daily (for hypertension)\n",
      "3. Iron supplements (for anemia)\n",
      "\n",
      "Note that these medications were listed under the \"Current Medications\" section of the report.\n"
     ]
    }
   ],
   "source": [
    "out = parent_retrieval_chain.invoke(\"What are the current medications of Mark Johnson\")\n",
    "print(out)"
   ]
  },
  {
   "cell_type": "code",
   "execution_count": null,
   "id": "14353979-8b42-4617-8f84-6c8b2ab1c299",
   "metadata": {},
   "outputs": [],
   "source": []
  },
  {
   "cell_type": "code",
   "execution_count": null,
   "id": "59db5520-4f63-4614-9fc6-bd5d298d28a0",
   "metadata": {},
   "outputs": [],
   "source": []
  },
  {
   "cell_type": "code",
   "execution_count": 22,
   "id": "889535a0-0596-488c-91a7-56fa489a4f97",
   "metadata": {},
   "outputs": [
    {
     "name": "stdout",
     "output_type": "stream",
     "text": [
      "Human: \n",
      "    <|start_header_id|>system<|end_header_id|> \n",
      "    You are an expert doctor. Use the information in the medical report provided below to answer the query.\n",
      "    If the information is not in the report, just say that you don't know. Don't try to make up an answer.\n",
      "    \n",
      "    Medical report:\n",
      "    [Document(page_content=\"[Report de-identified (Safe-harbor compliant) by De-ID v.6.22.07.0]\\n\\n\\n \\nPATIENT NAME:  **NAME[AAA, BBB]\\nACCOUNT #:  **ID-NUM\\nADMISSION DATE:  **DATE[Mar 03 2007]\\nCONSULTATION DATE:  **DATE[Mar 05 06]\\nPage 3 of 3\\n<END HEADER>\\n<start header>\\n**INSTITUTION\\nPLASTIC SURGERY\\nCONSULTATION\\nPATIENT NAME:  **NAME[AAA, BBB]\\nACCOUNT #:  **ID-NUM\\n**ROOM\\nATTENDING PHYSICIAN:  **NAME[YYY M ZZZ]\\nCONSULTING PHYSICIAN:  **NAME[SSS RRR], M.D.\\nDATE OF ADMISSION:  **DATE[Mar 03 2007]\\nCONSULTATION DATE:  **DATE[Mar 05 06]\\nREASON FOR CONSULT:\\nRight hand injury.  \\nHPI:\\nThe patient is a **AGE[in 50s]-year-old, right-hand dominant female, who is an \\nunrestrained driver of a head-on vehicle collision with a roll over.  \\nSustaining injury include a 4-cm laceration above the right eye which was \\ntreated by Plastic Surgery resident as well as a right hand injury.  Films \\nobtained for this right-hand pain revealed a fracture of the right fifth \\nmetacarpal.  The patient has continued to complain of pain to her right hand \\npain revealed fracture of the right fifth metacarpal.  The patient has \\ncontinued to complain of pain to her right hand but this localized to the \\nulnar aspect of her right hand.  She denies any paresthesias or numbness.  \\nShe denies any significant decrease in her range of motion.  She admits to a \\nprior hand history of wrist fracture in the 1970s which required closed \\nreduction.  She has no other hand history.   \\nPAST MEDICAL HISTORY:\\nMedical history includes:\\n1. Left mastectomy.\\n2. Noninsulin-dependent diabetes mellitus.\\n3. Arthritis.\\n4. Fibromyalgia.\\nMEDICATIONS: \\nUnknown to the patient.\\nALLERGIES:\\nNO KNOWN DRUG ALLERGIES.\\nSOCIAL HISTORY: \\nThe patient is a two-pack per day tobacco user.  She denies alcohol or drug \\nuse.  She is married.  The patient is disabled secondary to osteoarthritis of \\nher knees.     \\nREVIEW OF SYSTEMS:\\nAs HPI; otherwise, within normal limits.\\nPHYSICAL EXAMINATION: \\nGeneral:  A well-developed, well-nourished **AGE[in 50s]-year-old, white female, who is \\nsitting comfortably in a hospital bed in no acute distress.  She is awake, \\nalert, and oriented times three.   \\nVital signs:  Afebrile, vital signs stable. \\nExtremity exam:  There is no gross deformity noted to her bilateral upper \\nextremities.  There is an area of edema and ecchymosis to her right hand to \\nthe ulnar aspect aligning with her right fifth metacarpal.  There are no open \\nwounds to the hand.  She has full range of motion of all of her digits as \\nwell as to her wrist.  She has no rotation noted to the metacarpal on \\nformation of this.  Her strength is appropriate 5/5 bilaterally.  Sensation \\nis intact by _______ 2-point discrimination.  Radial and ulnar pulses are 2/4 \\nbilaterally with capillary refill 3 seconds.   \\nRadiological exam reveals intra-articular fracture of the base of the right \\nfifth metacarpal with approximately 20-30 degrees angulation.   \\nASSESSMENT:\\nFracture, as listed above.\\nPLAN:  \\nThe patient is placed in a protective ulnar gutter splint.  This patient will \\nrequire surgical management for this fracture considering the extent that it \\nhas to the joint capsule.  The patient will require pinning of  \\nthis fracture site.  The patient should follow up and have surgery within one \\nweek's time, which she may follow up with Plastic Surgery Hand attending, Dr. \\n**NAME[RRR]; however, the patient requests surgery at her home town which is \\napproximately one hour away in **PLACE, Pennsylvania.  The patient is \\ninstructed to call to schedule surgery with Dr. **NAME[RRR] or if she choses to \\nfind a hand surgeon in her local area which may perform this surgery for her. \\n The patient should have the splint clean, dry, and intact in this time as \\nwell as elevation with a **NAME[QQQ] pillow.  She should restrict herself from \\nlifting or heavy use of her right upper extremity.  The patient will also \\nrequire removal of the stitches that were placed by **INSTITUTION in \\nfive days' time.  Dr. **NAME[RRR] was available at the time of service.   \\nThank you for consultation.  \\n___________________________________\\n**NAME[SSS RRR], M.D.\\n \\nDictator:  **NAME[VVV M. XXX, WWW-M]\\nRCZ/cap\\nD:  **DATE[Mar 05 2007] 11:32:47\\nT:  **DATE[Mar 05 2007] 13:23:05\\nR:  **DATE[Mar 05 2007] 13:23:05/cap\\nJob ID:  333557/**ID-NUM\\n \\n*** Dictated By: -**NAME[XXX, WWW-PPP M]. ***\\nElectronically Signed by **NAME[SSS RRR]  **DATE[Mar 09 2007] 05:07:40 PM\", metadata={'source': 'report22.xml', 'subtype': 'PLASTICS CONSULT', 'type': 'HP', 'chief_complaint': 'LEVEL 2 TRAUMA', 'admit_diagnosis': '959.8', 'discharge_diagnosis': '815.00,873.42,250.00,V04.81,E812.0,', 'year': '2007', 'downlaod_time': '', 'deid': 'v.6.22.07.0'}), Document(page_content='[Report de-identified (Safe-harbor compliant) by De-ID v.6.22.06.0]\\n\\n\\n \\nEMERGENCY DEPARTMENT\\nPATIENT RECORD\\n**INSTITUTION\\n**PLACE, PA  **ZIP-CODE\\n_____________________________________________________\\n \\n**NAME[AAA, BBB]\\n**ID-NUM\\nAERM \\n \\n \\nDATE OF SERVICE               **DATE[Mar 12 06] \\n \\nCHIEF COMPLAINT:  Rash.\\n \\nHISTORY OF PRESENT ILLNESS:  The patient had an incision and drainage of the \\nleft ring finger abscess on **DATE[Feb 31 2007], at which point he was \\nhospitalized.  The patient had no involvement of the flexor tendon per his \\nmedical record.  The culture of the abscess showed a few Staphylococcus \\naureus and no MRSA.  The patient was discharged on **DATE[Mar 3 2007], with a \\nprescription for Bactrim DS 4 times a day for 3 weeks.  The patient has been \\ntaking that since that time.  Today when he awoke he developed a pruritic \\nrosy pink macular papular rash, which is generalized.  The patient states \\nsince he has been on this sulfa drug also he notices by the end of the \\nevening he has a burning in the tongue.  There has been no wheezing or \\nshortness of breath.  The patient has not taken any other types of \\nmedications.  He is scheduled to have his sutures removed on **DATE[Mar 16 \\n2007]. \\n \\nPAST MEDICAL HISTORY:  Depression and a finger abscess.\\n \\nMEDICATIONS:  Paxil, Seroquel, and Bactrim DS 4 times a day.\\n \\nALLERGIES:  AMOXICILLIN AND DARVOCET.\\n \\nSOCIAL HISTORY:  The patient is single.  He does work part time construction \\nwith his cousin.  He uses alcohol and tobacco.  Denies any illicit drug use. \\n \\nREVIEW OF SYSTEMS:  There has been no fever or chills.  He denies any eye, \\near, nose, or throat discomfort.  There has been a burning in the tongue.  \\nThere has been no enlargement or inability to swallow.  There has been no \\nchest pain or shortness of breath.  No abdominal pain.  No nausea or \\nvomiting.  There has been no joint discomfort.  There has been a rosy pink \\nmacular papular rash, which is generalized and somewhat pruritic.  No \\nmentation changes.  Drove self to the ER.  All other systems are negative. \\n \\nPHYSICAL EXAMINATION:\\nVITAL SIGNS:  Blood pressure 111/64, pulse 70, respirations 18, and \\ntemperature 97. \\nGENERAL:  This is a well-appearing, well-nourished **AGE[in 30s]-year-old Caucasian male \\nwhose left hand and forearm is in a cast.  He is polite and cooperative with \\nthe exam.  He does not appear to be in any acute distress. \\nHEENT:  Normocephalic and atraumatic.  Eyes, ears, and nose are within normal \\nlimits.  Oropharynx is clear.  The airway is patent.  The tongue is midline \\nand almost geographic in nature. \\nNECK:  Supple with adenopathy or rigidity.\\nLUNGS:  Clear in all fields.\\nHEART:  Rate and rhythm are regular.\\nSKIN:  Warm and dry with a rosy macular papular rash stepping away from the \\npatient appears more diffuse than we you appear close.  There are no lesions \\nor boils.  This is most likely an allergic drug reaction to sulfa. \\nMUSCULOSKELETAL:  There is a cast on the left hand wrist area.  This was not \\nremoved for inspection. \\nNEUROLOGIC:  Normal.\\n \\nMEDICAL DECISION MAKING:  The patient was seen by Dr. **NAME[YYY].  I did explain \\nto the patient that the tongue burning may be a result of sulfa decreasing \\nthe B vitamin and suggested a multivitamin.  In the interim he is to use the \\nBenadryl.  He was given a dose of Pepcid in the emergency department and is \\nto use the over-the-counter once a day.  The patient is aware that this may \\ntake a week or two to totally clear out of the system.  He needs to list \\nsulfa as an allergy with no further use and keep his scheduled appointment \\nwith Dr. **NAME[VVV] for his suture removal next Tuesday. \\n \\nDIAGNOSIS:  Allergic reaction drug rash.\\n \\nDISPOSITION:  As indicated above.  The patient was also instructed that if he \\ndevelops any fever, any sloughing, or exfoliation of the skin he is to return \\nto the emergency department immediately and he is agreeable to that plan of \\ncare.  The patient has no PCP. \\n \\n \\n \\n \\n_____________________________\\n**NAME[WWW XXX], CRNP\\n \\nDict:     **DATE[Mar 12 2007] 11:10:56\\nTran:     **DATE[Mar 12 2007] 11:48:14\\nMH/sn/**ID-NUM/**ID-NUM/**ID-NUM\\n \\nR:  **DATE[Mar 12 2007] 11:48:14/sn\\n\\n**CARBON-COPY', metadata={'source': 'report25.xml', 'subtype': '', 'type': 'ER', 'chief_complaint': 'ALLERGIC REACTION', 'admit_diagnosis': '782.1', 'discharge_diagnosis': '693.0,E931.0,709.8,781.1,V45.89,681.00,041.10,311,', 'year': '2007', 'downlaod_time': '', 'deid': 'v.6.22.06.0'})]\n",
      "    \n",
      "    <|eot_id|>\n",
      "    <|start_header_id|>user<|end_header_id|> Query: What treatment or management plan is proposed for a patient with an incision and drainage of the left ring finger?<|eot_id|>assistant\n",
      "\n",
      "Based on the medical report, here is what I found:\n",
      "\n",
      "The patient had an incision and drainage of the left ring finger abscess on February 31, 2007, and was hospitalized. The patient was discharged on March 3, 2007, with a prescription for Bactrim DS 4 times a day for 3 weeks.\n",
      "\n",
      "In the current visit, the patient presented with a pruritic rosy pink macular papular rash, which is generalized. The patient was advised to take Benadryl and Pepcid, and was instructed to use the over-the-counter Pepcid once a day. The patient was also told to list sulfa as an allergy and to keep their scheduled appointment with Dr. VVV for their suture removal next Tuesday.\n",
      "\n",
      "No specific treatment or management plan is proposed for the incision and drainage of the left ring finger. However, the patient is scheduled to have their sutures removed on March 16, 2007.\n"
     ]
    }
   ],
   "source": [
    "out = parent_retrieval_chain.invoke(\"What treatment or management plan is proposed for a patient with an incision and drainage of the left ring finger?\")\n",
    "print(out)"
   ]
  },
  {
   "cell_type": "code",
   "execution_count": 23,
   "id": "f202f9a5-bda6-4ce1-a63b-212a7ddf1557",
   "metadata": {},
   "outputs": [
    {
     "name": "stdout",
     "output_type": "stream",
     "text": [
      "Human: \n",
      "    <|start_header_id|>system<|end_header_id|> \n",
      "    You are an expert doctor. Use the information in the medical report provided below to answer the query.\n",
      "    If the information is not in the report, just say that you don't know. Don't try to make up an answer.\n",
      "    \n",
      "    Medical report:\n",
      "    [Document(page_content='[Report de-identified (Safe-harbor compliant) by De-ID v.6.22.06.0]\\n\\n\\n \\n**INSTITUTION \\nEMERGENCY DEPARTMENT\\nPATIENT NAME:  **NAME[AAA, BBB]\\nACCOUNT #:  **ID-NUM\\nDATE OF SERVICE:  **DATE[Feb 17 06]\\nPRIMARY CARE PHYSICIAN: K  U\\nCHIEF COMPLAINT: \\nLeft foot pain.\\nHISTORY OF PRESENT ILLNESS:   \\nThe patient is a **AGE[in 50s]-year-old female with a history of chronic pain in her \\nfoot for about a year following surgery under which she went fusion and pin \\nplacement.   \\nThe patient has been seen by both the orthopedic surgeons in follow-up as \\nwell as the chronic pain clinic.  She has undergone numerous trials of \\nmedications as well as nerve blocks with limited success in controlling her \\npain.  She is currently taking Percocet at home for the pain.  She denies any \\nnew trauma to the foot.  She does not have any rashes.   \\nREVIEW OF SYSTEMS:    \\nReview of systems as per HPI; all other systems negative.\\nPAST MEDICAL HISTORY:   \\nChronic foot pain, anemia, gastric ulcers, pancreatitis, multiple sclerosis.\\nMedications:\\n1.   Albuterol.\\n2.   Percocet.\\nALLERGIES:  MORPHINE.\\nSocial history:  The patient does not smoke.  She denies the use of alcohol \\nor drugs.   \\nFamily history:  Diabetes, coronary artery disease.\\nPHYSICAL EXAM:  \\nVital signs:  Temperature is 36.9.  Heart rate:  87.  Blood pressure:  \\n118/72.  Respiratory rate:  16.  O2 saturation:  98% on room air.   \\nGeneral:  The patient is alert and oriented times three, cooperative in no \\napparent distress.   \\nHEENT:  Normocephalic, atraumatic.  Pupils are equally round and reactive to \\nlight.  She has moist mucous membranes.  No oropharyngeal erythema or \\nexudates.   \\nChest:  The lungs are clear to auscultation bilaterally.  \\nHeart:  The heart has a regular rate and rhythm.  Normal S1 and S2.  No \\nappreciable murmurs.   \\nAbdomen:  The abdomen is soft, nontender, nondistended with positive bowel \\nsounds throughout.   \\nExtremities:  The left foot has old incisions.  There is no new edema.  She \\nis tender to palpation over the lateral aspect of the foot on the dorsum and \\nalso on the medial aspect near the base of the fifth metatarsal.  There is no \\nevidence of any trauma.  No erythema.  No warmness.  No ecchymotic areas.  \\nDorsal pedal pulses 2+.  Posterior tibial 1+.  Normal sensation to light \\ntouch.   \\nED COURSE:  \\nI explained to the patient that in the emergency department we could offer \\nher only medications to help her in this acute setting and that she would \\nneed to follow up with the orthopedic surgeons and the chronic brain clinic \\nfor further management of this chronic issue.  There was no evidence of acute \\ntrauma at this time.  There was no evidence of cellulitis.   \\nThe patient was given two Percocet to help with her acute pain.  We offered \\nto give her a prescription as an outpatient; however, she stated that she \\nstill had a few at home and that she would not be able to fill the \\nprescription again until the twenty-third.   \\nThe patient was instructed to follow up with the orthopedic surgeon and was \\ngiven that number as well as the chronic pain clinic.   \\nFINAL DIAGNOSIS:   \\n1.   CHRONIC LEFT FOOT PAIN.\\n2.   STATUS POST SURGICAL FUSION AND PIN PLACEMENT.\\n___________________________________\\n**NAME[YYY CCC ZZZ], M.D.  \\nDictator:  **NAME[WWW M. XXX], M.D.\\n**INITIALS\\nD:  **DATE[Feb 17 2007] 22:51:32\\nT:  **DATE[Feb 17 2007] 23:00:53\\nR:  **DATE[Feb 17 2007] 23:00:53/plb\\nJob ID:  350755/**ID-NUM\\n \\n*** Dictated By: -**NAME[XXX, TTT M]. ***\\nElectronically Signed by **NAME[YYY ZZZ]  **DATE[Feb 22 2007] 09:10:22 AM', metadata={'source': 'report13.xml', 'subtype': 'EVAL', 'type': 'ER', 'chief_complaint': 'L FOOT PAIN', 'admit_diagnosis': '729.5', 'discharge_diagnosis': '729.5,V45.89,', 'year': '2007', 'downlaod_time': '', 'deid': 'v.6.22.06.0'}), Document(page_content=\"[Report de-identified (Safe-harbor compliant) by De-ID v.6.22.06.0]\\n\\n\\n \\n**INSTITUTION\\nEMERGENCY DEPARTMENT\\nPATIENT NAME:  **NAME[AAA, BBB]\\nACCOUNT #:  **ID-NUM \\nDATE OF SERVICE:  **DATE[Feb 17 06] \\nPRIMARY CARE PHYSICIAN: A  N\\nATTENDING PHYSICIAN ADDENDUM:\\nThis patient was seen in conjunction with the Trauma Service as a level two \\ntrauma.  I was present for the patient's initial evaluation by the Trauma \\nService.  I did review the trauma flow sheet and agreed with its content \\nunless noted otherwise below.   \\nThis is a **AGE[in teens]-year-old female patient who was the unrestrained driver in a \\nmotor vehicle collision.  The vehicle reportedly flipped and did shear off a \\nutility pole.  The patient denies striking her head, although she was noted \\nto have an occipital scalp laceration.  She denied any loss of consciousness \\nwith this.  She denies any complaints of neck pain.  No chest pain.  No \\nabdominal pain.  She states that she is having pain at present to her right \\nupper arm, as well as her left calf.  She denies any numbness or weakness in \\nher extremities.  The patient's review of systems is as above.  The remaining \\nsystems were negative. \\nPAST MEDICAL HISTORY:\\nNone.\\nMEDICATIONS:\\nOral contraceptives.\\nALLERGIES:\\nTHE PATIENT HAS NO KNOWN DRUG ALLERGIES. \\nTETANUS:\\nThe patient was unsure of her last tetanus immunization.\\nSOCIAL HISTORY:\\nNegative for alcohol use.  \\nPHYSICAL EXAMINATION:\\nThe patient's physical examination showed her to be awake and alert in no \\ndistress.  Her GCS was 15.  Vital signs upon arrival to the trauma bay showed \\nher to have a blood pressure of 122/84, pulse rate 88, respirations 16, \\noxygen saturation 98% on room air, and temperature 36.7.  The patient's HEENT \\nshowed her to have a 2 cm laceration on the occipital region of the scalp.  \\nHer pupils were equal and reactive.  Extraocular movements were intact.  The \\npatient's TMs were clear bilaterally.  The patient's neck was without \\ncervical spine tenderness.  The patient's oropharynx showed no evidence of \\nintraoral trauma.  The chest was nontender on palpation.  Breath sounds were \\nequal bilaterally.  The heart was normal S1 and S2.  The abdomen was soft, \\nnontender, and nondistended.  The pelvis was nontender on palpation.  The \\npatient did have some pain on palpation to the soft tissue of the right upper \\narm, as well as to the calf muscles in the left leg.  Neurologic examination \\nshowed intact motor and sensory function.   \\nED COURSE:\\nThe patient's ED course did consist of a chest x-ray showing no evidence of \\nacute rib fractures or pneumothorax.  Pelvis x-ray was limited but showed no \\ngross evidence of fracture.  The patient's H&H was 14.6 and 45.  Glucose \\nwas 95, sodium 143, potassium 4.1.  The patient did undergo a CT scan of the \\nhead showing no evidence of intracranial hemorrhage.  CT scan of the cervical \\nspine was negative for any evidence of fracture or subluxation.  CT scan of \\nthe chest, abdomen and pelvis ruled out fracture, thoracic or abdominal \\ninjury.  The laceration was repaired by the Trauma Service with staples here \\nin the Emergency Department under my supervision.  The patient did also have \\na CT scan of the thoracic spine which did have preliminary read of possible \\ncompression fracture at T8.  This was relayed to the Trauma Service.  The \\npatient will be admitted to the Trauma Service at this time for further \\nevaluation, management and observation. \\nADMITTING DIAGNOSIS(ES):\\n1. CLOSED HEAD INJURY.  \\n2. 2 cm OCCIPITAL SCALP LACERATION.\\n3. MULTIPLE CONTUSIONS.\\n4. POSSIBLE T8 COMPRESSION FRACTURE.\\n \\n___________________________________\\n**NAME[WWW VVV XXX], M.D.\\n \\nDictator:  **NAME[WWW VVV XXX], M.D.\\n**INITIALS\\nD:  **DATE[Feb 18 2007] 00:05:53\\nT:  **DATE[Feb 18 2007] 00:16:28\\nR:  **DATE[Feb 18 2007] 00:16:28/gvr\\nJob ID:  350795/**ID-NUM\\nCc:\\n \\n*** Dictated By: -**NAME[XXX, SSS VVV] ***\\nElectronically Signed by **NAME[WWW XXX]  **DATE[Feb 22 2007] 09:10:59 AM\", metadata={'source': 'report12.xml', 'subtype': 'EVAL', 'type': 'ER', 'chief_complaint': 'LEVEL 2/MVA', 'admit_diagnosis': '959.9', 'discharge_diagnosis': '873.0,E812.0,', 'year': '2007', 'downlaod_time': '', 'deid': 'v.6.22.06.0'})]\n",
      "    \n",
      "    <|eot_id|>\n",
      "    <|start_header_id|>user<|end_header_id|> Query: What treatment or management plan is proposed for a patient's closed head injury and multiple contusions?<|eot_id|>assistant\n",
      "\n",
      "Based on the medical report, it appears that the patient was treated and managed for their closed head injury and multiple contusions in the emergency department.\n",
      "\n",
      "The report mentions that the patient underwent a CT scan of the head, which showed no evidence of intracranial hemorrhage. The patient's head injury was assessed and managed by the Trauma Service, and they were advised to follow up with the orthopedic surgeons and the chronic pain clinic for further management of their chronic issue.\n",
      "\n",
      "Additionally, the report notes that the patient's laceration was repaired by the Trauma Service with staples in the emergency department under the supervision of the attending physician.\n",
      "\n",
      "It is likely that the patient was advised to rest and avoid strenuous activities for a period of time after the injury, and may have received medication to manage their symptoms such as pain and headache. They may also have been advised to follow up with their primary care physician for further evaluation and management.\n",
      "\n",
      "However, since the report does not provide specific details on the treatment plan, it is difficult to determine the exact course of action taken by the healthcare provider.\n"
     ]
    }
   ],
   "source": [
    "out = parent_retrieval_chain.invoke(\"What treatment or management plan is proposed for a patient's closed head injury and multiple contusions?\")\n",
    "print(out)"
   ]
  },
  {
   "cell_type": "code",
   "execution_count": 24,
   "id": "2a5aa216-63a0-4308-853c-8c27c4d14c08",
   "metadata": {},
   "outputs": [
    {
     "name": "stdout",
     "output_type": "stream",
     "text": [
      "Human: \n",
      "    <|start_header_id|>system<|end_header_id|> \n",
      "    You are an expert doctor. Use the information in the medical report provided below to answer the query.\n",
      "    If the information is not in the report, just say that you don't know. Don't try to make up an answer.\n",
      "    \n",
      "    Medical report:\n",
      "    [Document(page_content='[Report de-identified (Safe-harbor compliant) by De-ID v.6.22.06.0]\\n\\n\\n \\nEMERGENCY DEPARTMENT\\nPATIENT RECORD\\n**INSTITUTION\\n**PLACE, PA  **ZIP-CODE\\n_____________________________________________________\\n \\n**NAME[AAA, BBB]\\n**ID-NUM\\nAERM \\n \\n \\nDATE OF SERVICE               **DATE[Mar 12 06] \\n \\nCHIEF COMPLAINT:  Rash.\\n \\nHISTORY OF PRESENT ILLNESS:  The patient had an incision and drainage of the \\nleft ring finger abscess on **DATE[Feb 31 2007], at which point he was \\nhospitalized.  The patient had no involvement of the flexor tendon per his \\nmedical record.  The culture of the abscess showed a few Staphylococcus \\naureus and no MRSA.  The patient was discharged on **DATE[Mar 3 2007], with a \\nprescription for Bactrim DS 4 times a day for 3 weeks.  The patient has been \\ntaking that since that time.  Today when he awoke he developed a pruritic \\nrosy pink macular papular rash, which is generalized.  The patient states \\nsince he has been on this sulfa drug also he notices by the end of the \\nevening he has a burning in the tongue.  There has been no wheezing or \\nshortness of breath.  The patient has not taken any other types of \\nmedications.  He is scheduled to have his sutures removed on **DATE[Mar 16 \\n2007]. \\n \\nPAST MEDICAL HISTORY:  Depression and a finger abscess.\\n \\nMEDICATIONS:  Paxil, Seroquel, and Bactrim DS 4 times a day.\\n \\nALLERGIES:  AMOXICILLIN AND DARVOCET.\\n \\nSOCIAL HISTORY:  The patient is single.  He does work part time construction \\nwith his cousin.  He uses alcohol and tobacco.  Denies any illicit drug use. \\n \\nREVIEW OF SYSTEMS:  There has been no fever or chills.  He denies any eye, \\near, nose, or throat discomfort.  There has been a burning in the tongue.  \\nThere has been no enlargement or inability to swallow.  There has been no \\nchest pain or shortness of breath.  No abdominal pain.  No nausea or \\nvomiting.  There has been no joint discomfort.  There has been a rosy pink \\nmacular papular rash, which is generalized and somewhat pruritic.  No \\nmentation changes.  Drove self to the ER.  All other systems are negative. \\n \\nPHYSICAL EXAMINATION:\\nVITAL SIGNS:  Blood pressure 111/64, pulse 70, respirations 18, and \\ntemperature 97. \\nGENERAL:  This is a well-appearing, well-nourished **AGE[in 30s]-year-old Caucasian male \\nwhose left hand and forearm is in a cast.  He is polite and cooperative with \\nthe exam.  He does not appear to be in any acute distress. \\nHEENT:  Normocephalic and atraumatic.  Eyes, ears, and nose are within normal \\nlimits.  Oropharynx is clear.  The airway is patent.  The tongue is midline \\nand almost geographic in nature. \\nNECK:  Supple with adenopathy or rigidity.\\nLUNGS:  Clear in all fields.\\nHEART:  Rate and rhythm are regular.\\nSKIN:  Warm and dry with a rosy macular papular rash stepping away from the \\npatient appears more diffuse than we you appear close.  There are no lesions \\nor boils.  This is most likely an allergic drug reaction to sulfa. \\nMUSCULOSKELETAL:  There is a cast on the left hand wrist area.  This was not \\nremoved for inspection. \\nNEUROLOGIC:  Normal.\\n \\nMEDICAL DECISION MAKING:  The patient was seen by Dr. **NAME[YYY].  I did explain \\nto the patient that the tongue burning may be a result of sulfa decreasing \\nthe B vitamin and suggested a multivitamin.  In the interim he is to use the \\nBenadryl.  He was given a dose of Pepcid in the emergency department and is \\nto use the over-the-counter once a day.  The patient is aware that this may \\ntake a week or two to totally clear out of the system.  He needs to list \\nsulfa as an allergy with no further use and keep his scheduled appointment \\nwith Dr. **NAME[VVV] for his suture removal next Tuesday. \\n \\nDIAGNOSIS:  Allergic reaction drug rash.\\n \\nDISPOSITION:  As indicated above.  The patient was also instructed that if he \\ndevelops any fever, any sloughing, or exfoliation of the skin he is to return \\nto the emergency department immediately and he is agreeable to that plan of \\ncare.  The patient has no PCP. \\n \\n \\n \\n \\n_____________________________\\n**NAME[WWW XXX], CRNP\\n \\nDict:     **DATE[Mar 12 2007] 11:10:56\\nTran:     **DATE[Mar 12 2007] 11:48:14\\nMH/sn/**ID-NUM/**ID-NUM/**ID-NUM\\n \\nR:  **DATE[Mar 12 2007] 11:48:14/sn\\n\\n**CARBON-COPY', metadata={'source': 'report25.xml', 'subtype': '', 'type': 'ER', 'chief_complaint': 'ALLERGIC REACTION', 'admit_diagnosis': '782.1', 'discharge_diagnosis': '693.0,E931.0,709.8,781.1,V45.89,681.00,041.10,311,', 'year': '2007', 'downlaod_time': '', 'deid': 'v.6.22.06.0'}), Document(page_content='[Report de-identified (Safe-harbor compliant) by De-ID v.6.22.06.0]\\n\\n\\n \\n**INSTITUTION \\nEMERGENCY DEPARTMENT\\nPATIENT NAME:  **NAME[AAA, BBB M]\\nACCOUNT #:  **ID-NUM\\nDATE OF SERVICE:  **DATE[Mar 01 06]\\nPRIMARY CARE PHYSICIAN: **NAME[VVV M UUU]\\nCHIEF COMPLAINT:\\nEye swelling.\\nHISTORY OF PRESENT ILLNESS:  \\nThis is a **AGE[in 20s]-year-old  African-American female with a history of sickle cell \\nanemia who presents to the Emergency Department complaining of left eye \\nswelling.  She states she had a pimple near her left eye where she picked \\nseveral days ago.  She then began having some swelling and increased drainage \\nfrom the site.  The swelling progressed and over the weekend consumed her \\nentire left eye.  She states she is having central vision out of the left \\neye.  Her eye is swollen shut.  She also states she has a headache.  She \\ndenies any fevers or chills.  She denies any cough or cold symptoms.  She \\ndenies any chest pain or shortness of breath.  She denies any nausea or \\nvomiting or diarrhea. \\nShe states that  even with her regular sickle cell regimen, pain medications \\nare  \\n1. Morphine 60 mg p.o. t.i.d., as well as,\\n2. Roxicet 5 mg p.r.n.  She still is not getting relief from her pain.\\nREVIEW OF SYSTEMS:    \\nNegative except as listed in the HPI.\\nPAST MEDICAL HISTORY:   \\n1. Sickle cell anemia.\\n2. Vaginal herpes.\\n3. Cholecystectomy.\\n4. Left abdominal surgery.\\nALLERGIES:\\nCOMPAZINE WHICH CAUSES DYSKINESIA.\\nMEDICATIONS:\\n1. Folic acid.\\n2. Zoloft.\\n3. Vitamin.\\n4. Percocet.\\n5. Morphine.\\n6. Penicillin.\\n7. Stool softener.\\nSOCIAL HISTORY:\\nThe patient  smokes about a half pack per day.  She denies any other drug \\nuse.  She does drink occasional alcohol, one or two drinks a month. \\nPHYSICAL EXAM:  \\nVital signs:  Temperature 36.8, pulse 64, respirations 16, blood pressure \\n108/60. \\nIn general, she is awake, alert, oriented, times three, and in no acute \\ndistress. \\nHEENT exam reveals she has diffuse edema of the left eye.  Her eyelid is \\nswollen.  She has a small ulceration on her left temple with surrounding \\nedema and erythema.  There is no active drainage from the site.  There is no \\nfluctuant mass. \\nCardiac:  Regular rate and rhythm.  S1 and S2, no murmurs, rubs, or gallops.\\nThe lungs clear to auscultation bilaterally.\\nAbdomen is soft, nontender, nondistended.  Positive active Bowel sounds are \\npresent. \\nExtremities:  No cyanosis, clubbing, or edema.\\nCBC was obtained which showed a white blood cell count of 15.2, H&H 11.3 \\nand 32.5, platelets 176. \\nA CT of the orbits were obtained which revealed left facial and preseptal \\nperiorbital inflammation consistent with cellulitis.  Her orbital contents \\nand globes are intact.  There are no bony lesion.  There is some mild mucosal \\nthickening of the inferior aspects of the maxillary sinuses.  The remaining \\nsinuses are clear. \\nED COURSE:  \\nThis is a **AGE[in 20s]-year-old with left eye cellulitis.  CT was obtained to rule out \\neye involvement.  Per the CT there was no orbital content involvement.  The \\npatient  did receive Unasyn 3 gram IV while in the Emergency Department, as \\nwell as, Dilaudid for pain control.  Due to the fact that there is no eye \\ninvolvement, it was felt that the patient  could be treated with p.o. \\nantibiotics. \\nThe patient was discharged to home.  She was given a prescription for Bactrim \\nDS b.i.d. to take for 10 days.  She was told to follow up with her PCP \\ntomorrow. She states she will call them tomorrow and be seen or return to the \\nEmergency Department.  The patient  was understanding of all of the \\ninstructions and in agreement with the plan. \\nThe case was discussed with Dr. **NAME[ZZZ] who is in full agreement with the plan.\\nPROCEDURE(S):  \\nPLAN/FOLLOW-UP: \\nATTENDING PHYSICIAN ADDENDUM:  \\nDISCHARGE DIAGNOSIS(ES):  \\n___________________________________\\n**NAME[YYY M ZZZ], M.D.\\n \\nDictator:  **NAME[WWW XXX], M.D.\\n**INITIALS\\nD:  **DATE[Mar 01 2007] 23:44:54\\nT:  **DATE[Mar 02 2007] 08:55:15\\nR:  **DATE[Mar 02 2007] 08:55:15/hmj\\nJob ID:  328095/**ID-NUM\\nCc:\\n \\n*** Dictated By: -**NAME[XXX, TTT] ***\\nElectronically Signed by **NAME[YYY ZZZ]  **DATE[Mar 15 2007] 02:30:44 PM', metadata={'source': 'report14.xml', 'subtype': 'EVAL', 'type': 'ER', 'chief_complaint': 'INSECT BITE', 'admit_diagnosis': '682.9', 'discharge_diagnosis': '682.0,282.60,', 'year': '2007', 'downlaod_time': '', 'deid': 'v.6.22.06.0'})]\n",
      "    \n",
      "    <|eot_id|>\n",
      "    <|start_header_id|>user<|end_header_id|> Query: The patient has burning in the tongue, what may be the cause?<|eot_id|>assistant\n",
      "\n",
      "Based on the medical report, the patient has been taking Bactrim DS (sulfamethoxazole-trimethoprim) for 3 weeks, and has developed a burning sensation in the tongue. This symptom is likely related to the medication.\n",
      "\n",
      "The report mentions that the patient's tongue is \"almost geographic in nature\", which suggests that the tongue has become inflamed and irritated. This is a common side effect of sulfonamide antibiotics like Bactrim DS, which can cause a condition known as sulfonamide-induced glossitis (inflammation of the tongue).\n",
      "\n",
      "The burning sensation in the tongue is likely caused by the sulfonamide component of Bactrim DS, which can irritate the mucous membranes of the mouth and tongue. This reaction is usually reversible and resolves after discontinuation of the medication or switching to an alternative antibiotic.\n",
      "\n",
      "It's worth noting that the attending physician suggested a multivitamin to help alleviate the tongue burning, but it's unclear whether this was specifically recommended to counteract the effects of Bactrim DS.\n"
     ]
    }
   ],
   "source": [
    "out = parent_retrieval_chain.invoke(\"The patient has burning in the tongue, what may be the cause?\")\n",
    "print(out)"
   ]
  },
  {
   "cell_type": "code",
   "execution_count": 25,
   "id": "984c8586-cae8-4d59-84aa-9046fbbfc006",
   "metadata": {},
   "outputs": [
    {
     "name": "stdout",
     "output_type": "stream",
     "text": [
      "Human: \n",
      "    <|start_header_id|>system<|end_header_id|> \n",
      "    You are an expert doctor. Use the information in the medical report provided below to answer the query.\n",
      "    If the information is not in the report, just say that you don't know. Don't try to make up an answer.\n",
      "    \n",
      "    Medical report:\n",
      "    [Document(page_content=\"[Report de-identified (Safe-harbor compliant) by De-ID v.6.22.06.0]\\n\\n\\n \\n**INSTITUTION \\nEMERGENCY DEPARTMENT\\nPATIENT NAME:  **NAME[AAA, BBB]\\nACCOUNT #:  **ID-NUM\\nDATE OF SERVICE:  **DATE[Apr 13 06]\\nPRIMARY CARE PHYSICIAN: **NAME[XXX M WWW]\\nATTENDING PHYSICIAN ADDENDUM:  \\nThis is an **AGE[in teens]-year-old female seen by me along with the resident.  Please see \\nthe resident's dictated history and physical for details.  \\nThe patient comes in to the Emergency Department with excessive tearing of \\nthe left eye followed by soreness of the upper lid associated with \\ninfraorbital pain.  She also complains of mild sinus congestion and denies \\nany fevers, chills. \\nVitals show that her temperature is 36.8, pulse is 81, respiration is 18, and \\nblood pressure is 100/62.  Examination of the left eye shows her to have \\nfulminant papillae with no evidence of chalazion or stye over the left upper \\nor lower eyelid.  There is trace conjunctival injection.  The cornea is \\nclear.  There is no excessive collection of secretions in the left eye, and \\nthere is no tenderness or redness over the ________ glands or over the \\ncollecting system.   \\nHospital Course and Plan:  Examination is consistent with contact \\nlens-associated conjunctivitis.  She has mild redness associated with \\nfulminant papillae.  Clinically, there is no evidence to suggest a sinusitis. \\n She does have __________ discomfort.   \\nI have recommended that she be started on Patanol b.i.d., left eye.  \\nAntibiotic treatment will not be initiated at this time.  I have told her \\nthat she can take over-the-counter pseudoephedrine to help with the \\ncongestion.  Artificial tears are to be used on a p.r.n. basis.  She will \\nfollow in a few weeks.  She will come back if her symptoms are worse in any \\nway.   \\nDISCHARGE DIAGNOSIS(ES):  \\nCONTACT LENS-ASSOCIATED CONJUNCTIVITIS.\\n___________________________________\\n**NAME[YYY ZZZ], M.D.\\nEmergency Medicine\\nAttending Physician\\nDictator:  **NAME[YYY ZZZ], M.D.\\nJA/mr\\nD:  **DATE[Apr 13 2007] 20:32:02\\nT:  **DATE[Apr 13 2007] 20:46:19\\nR:  **DATE[Apr 13 2007] 20:46:19/mr\\nJob ID:  345707/**ID-NUM\\n \\n*** Dictated By: -**NAME[ZZZ, VVV] ***\\nElectronically Signed by **NAME[YYY ZZZ]  **DATE[Apr 22 2007] 08:40:56 PM\", metadata={'source': 'report41.xml', 'subtype': 'EVAL', 'type': 'ER', 'chief_complaint': 'R EYE PAIN', 'admit_diagnosis': '372.30', 'discharge_diagnosis': '372.39,', 'year': '2007', 'downlaod_time': '', 'deid': 'v.6.22.06.0'})]\n",
      "    \n",
      "    <|eot_id|>\n",
      "    <|start_header_id|>user<|end_header_id|> Query: What treatment or management plan is proposed for excessive tearing of the left eye<|eot_id|>assistant\n",
      "\n",
      "According to the medical report, the attending physician proposes the following treatment or management plan for excessive tearing of the left eye:\n",
      "\n",
      "* Start Patanol b.i.d. (twice daily) in the left eye.\n",
      "* Antibiotic treatment will not be initiated at this time.\n",
      "* Over-the-counter pseudoephedrine may be taken to help with congestion.\n",
      "* Artificial tears are to be used as needed (p.r.n.) basis.\n",
      "\n",
      "The patient is advised to follow up in a few weeks and return if her symptoms worsen in any way.\n"
     ]
    }
   ],
   "source": [
    "out = parent_retrieval_chain.invoke(\"What treatment or management plan is proposed for excessive tearing of the left eye\")\n",
    "print(out)"
   ]
  },
  {
   "cell_type": "code",
   "execution_count": 30,
   "id": "c6598dac-5532-4eb5-9294-635b81f6e194",
   "metadata": {},
   "outputs": [
    {
     "name": "stdout",
     "output_type": "stream",
     "text": [
      "Human: \n",
      "    <|start_header_id|>system<|end_header_id|> \n",
      "    You are an expert doctor. Use the information in the medical report provided below to answer the query. Be specific and detailed.\n",
      "    If the information is not in the report, just say that you don't know. Don't try to make up an answer.\n",
      "    \n",
      "    Medical report:\n",
      "    [Document(page_content='[Report de-identified (Safe-harbor compliant) by De-ID v.7.01.24.0]\\n\\n**INSTITUTION\\nEMERGENCY DEPARTMENT\\nPATIENT NAME: Laura Gutierrez\\nACCOUNT #: 987654\\nDATE OF SERVICE: May 24 2024\\nPRIMARY CARE PHYSICIAN: Dr. Sarah Johnson\\nCHIEF COMPLAINT:\\nComplaint of severe abdominal pain.\\nHISTORY OF PRESENT ILLNESS:  \\nThe patient, a woman in her late 70s, presented to the emergency department with a history of rheumatoid arthritis and chronic pancreatitis. She complained of midepigastric abdominal pain and altered mental status for the past day. According to her nephew, she has been increasingly lethargic and unable to perform her usual activities. She also experienced a headache for the past three days. On examination, the patient reported no other significant symptoms.\\nREVIEW OF SYSTEMS:  \\nNegative apart from the reported symptoms.\\nPAST MEDICAL HISTORY:   \\n1. Rheumatoid arthritis.\\n2. COPD.\\n3. Diabetes.\\n4. Chronic pancreatitis.\\nMEDICATIONS:\\nAs per nursing notes.\\nALLERGIES:\\nMultiple drug allergies including SULFA, ERYTHROMYCIN, FOSAMAX, PENICILLIN, CIPRO, ALLEGRA, AND ALL NARCOTICS.\\nSOCIAL HISTORY:\\nThe patient is a non-smoker and non-drinker. She receives 24/7 home health nurse visits.\\nPHYSICAL EXAMINATION:  \\nThe patient appeared lethargic but responsive. Vital signs were within normal limits. Examination revealed epigastric tenderness and decreased breath sounds in the lung bases bilaterally.\\nLAB VALUES:\\nNotable lab values include elevated amylase and lipase levels, indicating possible pancreatitis.\\nIMAGING STUDIES:\\nCT of the abdomen showed severe scoliosis and findings consistent with chronic pancreatitis. Limited chest x-ray due to severe scoliosis.\\nED COURSE:  \\nIntravenous fluids were administered, and the patient was kept NPO. CT scans were performed to evaluate abdominal and cranial abnormalities. Admission was recommended for further management.\\nDIAGNOSIS(ES):  \\n1. ALTERED MENTAL STATUS.\\n2. ACUTE PANCREATITIS.\\n3. SEVERE SCOLIOSIS.\\n4. CHRONIC PAIN.\\nATTENDING PHYSICIAN ADDENDUM:\\nReviewed the nursing notes and concurred with the general findings. Discussed the case with the resident and agreed with the management plan.\\n \\n___________________________________\\nDr. Lisa Adams, M.D.\\nDictator: Dr. Lisa Adams, M.D.\\nLPA\\nD: May 24 2024 23:01:45\\nT: May 24 2024 23:20:34\\nR: May 25 2024 02:35:33/jmp\\nJob ID:  331283/987654\\nCc:\\n\\n*** Dictated By: -Dr. Sarah Johnson ***\\nElectronically Signed by Dr. Lisa Adams  May 27 2024 09:41:28 PM', metadata={'source': 'syntheticReport6.xml', 'subtype': 'EVAL', 'type': 'ER', 'chief_complaint': 'ABDOMINAL PAIN', 'admit_diagnosis': '780.99', 'discharge_diagnosis': '518.84,255.4,511.9,434.91,276.51,263.9,424.2,424.1,428.30,427.0,714.0,714.81,733.00,401.9,416.8,272.4,250.00,533.90,V43.64,V43.65,V46.2,574.20,441.4,V45.4,442.2', 'year': '2024', 'downlaod_time': '2024-05-24', 'deid': 'v.7.01.24.0'}), Document(page_content='[Report de-identified (Safe-harbor compliant) by De-ID v.6.22.07.0]\\n\\nCONSULTATION REPORT\\nMercy Hospital\\nChicago, IL 60612\\n__________________________________________________\\n\\nMark Johnson\\n246810121\\n246810121\\nC1A/3 ___________________________________________________\\n\\nDATE OF CONSULTATION:    May 24, 2024\\n\\nCONSULTING PHYSICIAN:    Dr. Jessica Brown, M.D.\\n\\nATTENDING PHYSICIAN:     Dr. James Wilson, M.D.\\n\\nREQUESTING PHYSICIAN:   Dr. Natalie Green, M.D.\\n\\nGASTROENTEROLOGY\\n\\nREASON FOR CONSULTATION \\nSevere abdominal pain and bloating.\\n\\nHISTORY OF PRESENT ILLNESS\\nThis is a 55-year-old Caucasian man with a history of diverticulosis and diabetes mellitus. He was admitted with severe lower abdominal pain, bloating, and nausea. The pain has been persistent for the past three days and is not relieved by over-the-counter medications. He denies any vomiting, fever, or changes in bowel habits. He has been on a clear liquid diet since admission.\\n\\nPAST MEDICAL & SURGICAL HISTORY\\n1. Diverticulosis.\\n2. Diabetes mellitus.\\n3. Hypertension.\\n4. Anemia.\\n5. Appendectomy.\\n\\nFAMILY HISTORY \\nHis mother had a history of colorectal cancer. No other significant family history.\\n\\nSOCIAL HISTORY \\nThe patient works as an accountant. He does not smoke and consumes alcohol occasionally. He is married and has two children.\\n\\nCURRENT MEDICATIONS \\n1. Metformin 1000 mg twice daily.\\n2. Lisinopril 20 mg daily.\\n3. Iron supplements.\\n4. Ibuprofen as needed for pain.\\n\\nLABORATORY DATA \\nWBC count 12.0, hemoglobin 13.0, hematocrit 39.0, platelet count 220. Sodium 139, potassium 4.0, chloride 100, bicarbonate 24, BUN 15, creatinine 1.0. Blood glucose 180. CRP elevated at 12.5.\\n\\nDIAGNOSTICS \\nCT scan of the abdomen shows diverticulitis with localized abscess formation.\\n\\nPHYSICAL EXAMINATION \\nVITALS: Blood pressure is 130/80, temperature 37.5, pulse 85, respiratory rate 18. HEENT: Normocephalic/atraumatic, no jaundice. ABDOMEN: Distended, tender in the lower quadrants, positive rebound tenderness. Bowel sounds present but hypoactive. EXTREMITIES: No edema. NEUROLOGIC: Alert and oriented, no focal deficits.\\n\\nASSESSMENT/RECOMMENDATIONS \\n1. Acute diverticulitis with abscess formation.\\na) Continue IV antibiotics.\\nb) Surgical consultation for possible drainage.\\nc) Maintain on a clear liquid diet and advance as tolerated.\\n\\n2. Diabetes mellitus.\\na) Monitor blood glucose levels closely.\\nb) Adjust insulin as needed.\\n\\n3. Hypertension.\\na) Continue current antihypertensive regimen.\\n\\n4. Anemia.\\na) Monitor hemoglobin levels.\\nb) Continue iron supplements.\\n\\nThank you for the opportunity to assist in the care of this patient. Please contact us for any further assistance.\\n\\n__________________________________\\nDr. Jessica Brown, M.D.\\n\\nDict:     May 24, 2024 10:00:00\\nTran:     May 24, 2024 10:30:00\\nJB\\n\\nR:  May 24, 2024 11:00:00/jb\\n\\nDr. James Wilson, M.D., <Attending>\\nDr. Jessica Brown, M.D.\\n          \\nDocument authenticated by: Dr. Jessica Brown, M.D., on May 24, 2024 12:00:00 ET.', metadata={'source': 'syntheticReport3.xml', 'subtype': 'CONSULT', 'type': 'HP', 'chief_complaint': 'ABDOMINAL PAIN', 'admit_diagnosis': '789.00', 'discharge_diagnosis': '562.10,285.1,401.1,250.00', 'year': '2024', 'downlaod_time': '', 'deid': 'v.6.22.07.0'})]\n",
      "    \n",
      "    <|eot_id|>\n",
      "    <|start_header_id|>user<|end_header_id|> Query: Recomendations for a patient with severe lower abdominal pain<|eot_id|>assistant\n",
      "\n",
      "Based on the medical reports provided, here are some recommendations for a patient with severe lower abdominal pain:\n",
      "\n",
      "**Initial Management**\n",
      "\n",
      "1. **Pain relief**: Administer analgesics such as acetaminophen or ibuprofen to manage the patient's pain.\n",
      "2. **Fluid replacement**: Provide intravenous fluids to prevent dehydration and maintain adequate hydration.\n",
      "3. **Clear liquids only**: Restrict the patient's diet to clear liquids only, such as water, clear broth, or electrolyte-rich beverages like Pedialyte.\n",
      "\n",
      "**Diagnostic Evaluation**\n",
      "\n",
      "1. **Physical examination**: Perform a thorough physical examination to assess the patient's vital signs, abdominal tenderness, and bowel sounds.\n",
      "2. **Imaging studies**: Order imaging studies such as computed tomography (CT) scans or magnetic resonance imaging (MRI) to evaluate the patient's abdominal anatomy and identify potential causes of the pain.\n",
      "3. **Laboratory tests**: Obtain laboratory tests, including complete blood counts (CBCs), basic metabolic panel (BMP), and liver function tests (LFTs), to assess the patient's overall health and identify potential underlying conditions.\n",
      "\n",
      "**Specific Recommendations**\n",
      "\n",
      "For patients with suspected diverticulitis, consider the following:\n",
      "\n",
      "1. **Antibiotics**: Administer broad-spectrum antibiotics to cover potential bacterial infections.\n",
      "2. **Surgical consultation**: Consult with a surgeon to discuss the possibility of surgical drainage or resection if the patient's condition worsens or fails to respond to conservative\n"
     ]
    }
   ],
   "source": [
    "out = parent_retrieval_chain.invoke(\"Recomendations for a patient with severe lower abdominal pain\")\n",
    "print(out)"
   ]
  },
  {
   "cell_type": "code",
   "execution_count": 24,
   "id": "25d330a4-653f-46e0-8163-49410246b803",
   "metadata": {},
   "outputs": [
    {
     "name": "stdout",
     "output_type": "stream",
     "text": [
      "Human: \n",
      "    <|start_header_id|>system<|end_header_id|> \n",
      "    You are an expert doctor. Use the information in the medical report provided below to answer the query. Be specific and detailed.\n",
      "    If the information is not in the report, just say that you don't know. Don't try to make up an answer.\n",
      "    \n",
      "    Medical report:\n",
      "    [Document(page_content='[Report de-identified (Safe-harbor compliant) by De-ID v.6.22.07.0]\\n\\nCONSULTATION REPORT\\nGeneral Hospital\\nLos Angeles, CA 90033\\n__________________________________________________\\n\\nJohn Smith\\n123456789 \\n123456789\\nA5B/1 ___________________________________________________\\n\\nDATE OF CONSULTATION:    May 24, 2024\\n\\nCONSULTING PHYSICIAN:    Dr. Maria Gonzalez, M.D.\\n\\nATTENDING PHYSICIAN:     Dr. Robert Johnson, M.D.\\n\\nREQUESTING PHYSICIAN:   Dr. Emily Clark, M.D.\\n\\nPULMONARY\\n\\nREASON FOR CONSULTATION \\nSevere pneumonia.\\n\\nHISTORY OF PRESENT ILLNESS\\nThis is a pleasant 72-year-old Hispanic gentleman with a history of chronic obstructive pulmonary disease (COPD) and hypertension. He was admitted with a high fever, productive cough, and shortness of breath. He has had worsening dyspnea over the past week. He reports no chest pain or hemoptysis. He denies any recent travel or exposure to sick contacts. He has been treated with IV antibiotics and oxygen therapy.\\n\\nPAST MEDICAL & SURGICAL HISTORY\\n1. Chronic obstructive pulmonary disease.\\n2. Hypertension.\\n3. Hyperlipidemia.\\n4. History of smoking, quit 10 years ago.\\n5. Appendectomy.\\n6. Cataract surgery.\\n\\nFAMILY HISTORY \\nNo known history of pulmonary diseases or cancer in the family.\\n\\nSOCIAL HISTORY \\nThe patient is a retired construction worker. He does not currently smoke or drink alcohol. He lives with his wife.\\n\\nCURRENT MEDICATIONS \\n1. Albuterol inhaler as needed.\\n2. Lisinopril 20 mg daily.\\n3. Atorvastatin 40 mg daily.\\n4. Metformin 500 mg twice daily.\\n5. Prednisone 10 mg daily.\\n6. Doxycycline 100 mg IV q.12 h.\\n\\nLABORATORY DATA \\nWBC count 15.2, hemoglobin 13.8, hematocrit 40.5, platelet count 230. Sodium 138, potassium 4.1, chloride 102, bicarbonate 22, BUN 20, creatinine 1.1. ABG shows pH 7.45, pCO2 35, pO2 75 on 2 liters of oxygen. Sputum culture pending.\\n\\nDIAGNOSTICS \\nChest x-ray shows bilateral infiltrates consistent with pneumonia.\\n\\nPHYSICAL EXAMINATION \\nVITALS: Blood pressure is 135/78, temperature 38.2, pulse 92, respiratory rate 20. HEENT: Normocephalic/atraumatic, no conjunctival pallor. CHEST: Bilateral crackles and wheezes, no rhonchi. CARDIOVASCULAR: Regular rhythm and rate, no murmurs. ABDOMEN: Soft, non-tender, no organomegaly. EXTREMITIES: No edema, good peripheral pulses. NEUROLOGIC: Alert and oriented, no focal deficits.\\n\\nASSESSMENT/RECOMMENDATIONS \\n1. Severe community-acquired pneumonia.\\na) Continue IV antibiotics.\\nb) Monitor oxygen saturation and adjust oxygen therapy as needed.\\nc) Encourage deep breathing and coughing exercises.\\nd) Reassess for potential complications such as empyema or respiratory failure.\\n\\n2. COPD exacerbation.\\na) Continue bronchodilator therapy.\\nb) Taper prednisone as clinically indicated.\\nc) Avoid respiratory depressants.\\n\\n3. Hypertension.\\na) Continue current antihypertensive medications.\\nb) Monitor blood pressure closely.\\n\\nThank you for the opportunity to be involved in the care of this patient. Please do not hesitate to contact us for any further assistance.\\n\\n__________________________________\\nDr. Maria Gonzalez, M.D.\\n\\nDict:     May 24, 2024 12:15:00\\nTran:     May 24, 2024 12:45:00\\nMG\\n\\nR:  May 24, 2024 13:30:00/xyz\\n\\nDr. Robert Johnson, M.D., <Attending>\\nDr. Maria Gonzalez, M.D.\\n          \\nDocument authenticated by: Dr. Maria Gonzalez, M.D., on May 24, 2024 14:00:00 ET.', metadata={'source': 'syntheticReport1.xml', 'subtype': 'CONSULT', 'type': 'HP', 'chief_complaint': 'PNEUMONIA', 'admit_diagnosis': '486', 'discharge_diagnosis': '491.21,305.1,276.8,780.60,599.0,401.9,272.4,285.1', 'year': '2024', 'downlaod_time': '', 'deid': 'v.6.22.07.0'})]\n",
      "    \n",
      "    <|eot_id|>\n",
      "    <|start_header_id|>user<|end_header_id|> Query: What medications were administrated to patients with chronic obstructive pulmonary disease?<|eot_id|>assistant\n",
      "\n",
      "Based on the medical report, the patient with chronic obstructive pulmonary disease (COPD) was administered the following medications:\n",
      "\n",
      "* Albuterol inhaler as needed\n",
      "* Prednisone 10 mg daily\n",
      "\n",
      "Note that these medications are likely being used to manage the patient's COPD symptoms and prevent exacerbations.\n"
     ]
    }
   ],
   "source": [
    "out = parent_retrieval_chain.invoke(\"What medications were administrated to patients with chronic obstructive pulmonary disease?\")\n",
    "print(out)"
   ]
  },
  {
   "cell_type": "code",
   "execution_count": null,
   "id": "8d9ed5c9-22ff-42a7-a765-288991252985",
   "metadata": {},
   "outputs": [],
   "source": []
  }
 ],
 "metadata": {
  "kernelspec": {
   "display_name": "Python 3 (ipykernel)",
   "language": "python",
   "name": "python3"
  },
  "language_info": {
   "codemirror_mode": {
    "name": "ipython",
    "version": 3
   },
   "file_extension": ".py",
   "mimetype": "text/x-python",
   "name": "python",
   "nbconvert_exporter": "python",
   "pygments_lexer": "ipython3",
   "version": "3.11.9"
  }
 },
 "nbformat": 4,
 "nbformat_minor": 5
}
