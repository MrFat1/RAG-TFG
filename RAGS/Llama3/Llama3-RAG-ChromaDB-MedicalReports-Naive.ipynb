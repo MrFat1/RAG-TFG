{
 "cells": [
  {
   "cell_type": "code",
   "execution_count": 2,
   "id": "842c4bfd",
   "metadata": {},
   "outputs": [],
   "source": [
    "!pip install -q chromadb\n",
    "!pip install -q torch torchvision torchaudio --index-url https://download.pytorch.org/whl/cu121\n",
    "!pip install -q transformers\n",
    "!pip install -q langchain\n",
    "!pip install -q git+https://github.com/huggingface/peft.git\n",
    "!pip install -q trl\n",
    "!pip install -q sentence_transformers\n",
    "!pip install -q pypdf\n",
    "!pip install -q unstructured"
   ]
  },
  {
   "cell_type": "code",
   "execution_count": 2,
   "id": "54a272d8-a547-43c0-b2fa-7e1d8f8a8d45",
   "metadata": {},
   "outputs": [
    {
     "name": "stdout",
     "output_type": "stream",
     "text": [
      "\n",
      "Copy-and-paste the text below in your GitHub issue and FILL OUT the two last points.\n",
      "\n",
      "- `transformers` version: 4.39.2\n",
      "- Platform: Windows-10-10.0.22621-SP0\n",
      "- Python version: 3.11.8\n",
      "- Huggingface_hub version: 0.22.1\n",
      "- Safetensors version: 0.4.2\n",
      "- Accelerate version: 0.28.0\n",
      "- Accelerate config: \tnot found\n",
      "- PyTorch version (GPU?): 2.2.2+cu121 (True)\n",
      "- Tensorflow version (GPU?): not installed (NA)\n",
      "- Flax version (CPU?/GPU?/TPU?): not installed (NA)\n",
      "- Jax version: not installed\n",
      "- JaxLib version: not installed\n",
      "- Using GPU in script?: <fill in>\n",
      "- Using distributed or parallel set-up in script?: <fill in>\n",
      "\n"
     ]
    }
   ],
   "source": [
    "!transformers-cli env"
   ]
  },
  {
   "cell_type": "code",
   "execution_count": 1,
   "id": "cbea2ba0",
   "metadata": {},
   "outputs": [
    {
     "name": "stderr",
     "output_type": "stream",
     "text": [
      "C:\\Users\\201902452\\AppData\\Local\\Programs\\Python\\Python311\\Lib\\site-packages\\tqdm\\auto.py:21: TqdmWarning: IProgress not found. Please update jupyter and ipywidgets. See https://ipywidgets.readthedocs.io/en/stable/user_install.html\n",
      "  from .autonotebook import tqdm as notebook_tqdm\n"
     ]
    }
   ],
   "source": [
    "import os\n",
    "import torch\n",
    "from peft import LoraConfig, PeftModel\n",
    "from transformers import (\n",
    "    AutoModelForCausalLM,\n",
    "    AutoTokenizer,\n",
    "    BitsAndBytesConfig,\n",
    "    TrainingArguments,\n",
    "    pipeline,\n",
    ")\n",
    "from trl import SFTTrainer"
   ]
  },
  {
   "cell_type": "code",
   "execution_count": 45,
   "id": "8539f952",
   "metadata": {},
   "outputs": [
    {
     "name": "stderr",
     "output_type": "stream",
     "text": [
      "C:\\Users\\201902452\\AppData\\Local\\Programs\\Python\\Python311\\Lib\\site-packages\\huggingface_hub\\file_download.py:157: UserWarning: `huggingface_hub` cache-system uses symlinks by default to efficiently store duplicated files but your machine does not support them in C:\\Users\\201902452\\.cache\\huggingface\\hub\\models--mistralai--Mistral-7B-Instruct-v0.2. Caching files will still work but in a degraded version that might require more space on your disk. This warning can be disabled by setting the `HF_HUB_DISABLE_SYMLINKS_WARNING` environment variable. For more details, see https://huggingface.co/docs/huggingface_hub/how-to-cache#limitations.\n",
      "To support symlinks on Windows, you either need to activate Developer Mode or to run Python as an administrator. In order to see activate developer mode, see this article: https://docs.microsoft.com/en-us/windows/apps/get-started/enable-your-device-for-development\n",
      "  warnings.warn(message)\n"
     ]
    }
   ],
   "source": [
    "#################################################################\n",
    "# Tokenizer\n",
    "#################################################################\n",
    "\n",
    "model_name='mistralai/Mistral-7B-Instruct-v0.2'\n",
    "#model_name = \"meta-llama/Meta-Llama-3-8B-Instruct\"\n",
    "\n",
    "tokenizer = AutoTokenizer.from_pretrained(model_name, trust_remote_code=True)\n",
    "tokenizer.pad_token = tokenizer.eos_token\n",
    "tokenizer.padding_side = \"right\""
   ]
  },
  {
   "cell_type": "code",
   "execution_count": 48,
   "id": "638269f5",
   "metadata": {},
   "outputs": [
    {
     "name": "stderr",
     "output_type": "stream",
     "text": [
      "Downloading shards: 100%|████████████████████████████████████████████████████████████████| 3/3 [02:09<00:00, 43.06s/it]\n",
      "Loading checkpoint shards: 100%|█████████████████████████████████████████████████████████| 3/3 [00:06<00:00,  2.10s/it]\n"
     ]
    }
   ],
   "source": [
    "#################################################################\n",
    "# Load pre-trained config\n",
    "#################################################################\n",
    "model = AutoModelForCausalLM.from_pretrained(\n",
    "    model_name,\n",
    "    quantization_config=bnb_config,\n",
    "    low_cpu_mem_usage = True,\n",
    "    device_map = device_map\n",
    ")"
   ]
  },
  {
   "cell_type": "markdown",
   "id": "4b402052",
   "metadata": {},
   "source": [
    "## LangChain"
   ]
  },
  {
   "cell_type": "code",
   "execution_count": 2,
   "id": "ba6e359d-f84c-4805-999b-28ed270193d8",
   "metadata": {},
   "outputs": [],
   "source": [
    "import pypdf\n",
    "from langchain.document_loaders import PyPDFLoader\n",
    "from langchain_community.document_loaders import UnstructuredXMLLoader\n",
    "\n",
    "CHROMA_PATH = \"chroma\"\n",
    "DATA_PATH = \"data\""
   ]
  },
  {
   "cell_type": "code",
   "execution_count": 34,
   "id": "892b9935-95ff-4ce5-8477-459b52150893",
   "metadata": {},
   "outputs": [],
   "source": [
    "from bs4 import BeautifulSoup\n",
    "import os\n",
    "\n",
    "def XMLLoader(folder_path):\n",
    "    reportData_list = []\n",
    "\n",
    "    for filename in os.listdir(folder_path):\n",
    "        if filename.endswith('.xml'):\n",
    "            file_path = os.path.join(folder_path, filename)\n",
    "            with open(file_path, 'r') as file:\n",
    "                content = file.read()\n",
    "\n",
    "            soup = BeautifulSoup(content, 'xml')\n",
    "\n",
    "            reportData = {}\n",
    "            for tag in soup.find_all():\n",
    "                if tag.name != \"report\":\n",
    "                    reportData[tag.name] = tag.text.strip()\n",
    "\n",
    "            reportData[\"filename\"] = filename\n",
    "            reportData_list.append(reportData)\n",
    "\n",
    "    return reportData_list"
   ]
  },
  {
   "cell_type": "code",
   "execution_count": 35,
   "id": "adc1ce53-5cc9-4846-b9d6-d3cc6e073fb4",
   "metadata": {},
   "outputs": [],
   "source": [
    "data =  XMLLoader(\"data\")"
   ]
  },
  {
   "cell_type": "code",
   "execution_count": null,
   "id": "5a6d2225-89e6-4b45-9b86-d47922083c7f",
   "metadata": {},
   "outputs": [],
   "source": []
  },
  {
   "cell_type": "code",
   "execution_count": 49,
   "id": "32be7ebc-8a1d-4dc6-a2a2-03e2096bfe05",
   "metadata": {},
   "outputs": [],
   "source": [
    "from langchain.docstore.document import Document\n",
    "\n",
    "documents = []\n",
    "for doc in data:\n",
    "    \n",
    "    document = Document(page_content=doc[\"report_text\"], metadata={\"source\": doc[\"filename\"], \n",
    "                                                                   \"subtype\": doc[\"subtype\"], \n",
    "                                                                   \"type\": doc[\"type\"], \n",
    "                                                                   \"chief_complaint\": doc[\"chief_complaint\"], \n",
    "                                                                   \"admit_diagnosis\": doc[\"admit_diagnosis\"], \n",
    "                                                                   \"discharge_diagnosis\": doc[\"discharge_diagnosis\"], \n",
    "                                                                   \"year\": doc[\"year\"], \n",
    "                                                                   \"downlaod_time\": doc[\"downlaod_time\"], \n",
    "                                                                   \"deid\": doc[\"deid\"]})\n",
    "    documents.append(document)"
   ]
  },
  {
   "cell_type": "code",
   "execution_count": 42,
   "id": "5c9cff44-6003-4f62-90a9-362b2865afc3",
   "metadata": {},
   "outputs": [],
   "source": [
    "#documents[1].metadata[\"subtype\"]=\"TEST\"\n",
    "#print(documents[7])"
   ]
  },
  {
   "cell_type": "code",
   "execution_count": null,
   "id": "f1620896-5323-4314-9411-0384bc887ff8",
   "metadata": {},
   "outputs": [],
   "source": []
  },
  {
   "cell_type": "code",
   "execution_count": 14,
   "id": "0afe3357",
   "metadata": {},
   "outputs": [],
   "source": [
    "from langchain.text_splitter import RecursiveCharacterTextSplitter\n",
    "\n",
    "def split_text(documents):\n",
    "    text_splitter = RecursiveCharacterTextSplitter(\n",
    "        chunk_size=500,\n",
    "        chunk_overlap=0,\n",
    "        length_function=len,\n",
    "        add_start_index=True\n",
    "    )\n",
    "    \n",
    "    chunks = text_splitter.split_documents(documents)\n",
    "    print(f\"Split {len(documents)} documents into {len(chunks)} chunks.\")\n",
    "    \n",
    "    return chunks"
   ]
  },
  {
   "cell_type": "code",
   "execution_count": 15,
   "id": "9d8b63ae-4084-4305-99c7-ee30c0f22214",
   "metadata": {},
   "outputs": [
    {
     "name": "stdout",
     "output_type": "stream",
     "text": [
      "Split 1 documents into 15 chunks.\n",
      "jugular venous distention.  ABDOMEN: Belly is soft, nontender, nondistended.  \n",
      "EXTREMITIES: No edema.  JOINT:  No gross joint deformities.  NEUROLOGIC: He \n",
      "is alert and appropriate.   \n",
      " \n",
      "ASSESSMENT/RECOMMENDATIONS \n",
      "1. Acute on chronic renal failure versus progression of his underlying stage \n",
      "IV CKD and I suspect it is the latter. \n",
      "a) Check urine studies.\n",
      "b) Check renal ultrasound with postvoid residuals to rule out easily\n",
      "{'source': 'data/report10.xml', 'start_index': 4528}\n"
     ]
    }
   ],
   "source": [
    "chunks = split_text(documents)\n",
    "\n",
    "# Cogemos un chunk aleatorio\n",
    "document = chunks[10]\n",
    "print(document.page_content) # Printeamos su contenido\n",
    "print(document.metadata) # Y su metadata (Fichero al que pertenece y donde empieza 'start_index')"
   ]
  },
  {
   "cell_type": "code",
   "execution_count": 132,
   "id": "84a18408",
   "metadata": {},
   "outputs": [],
   "source": [
    "from langchain.vectorstores.chroma import Chroma\n",
    "from langchain.embeddings import SentenceTransformerEmbeddings\n",
    "import shutil\n",
    "\n",
    "def save_to_chroma(chunks):\n",
    "    \n",
    "    # Clear out the database first if already exists.\n",
    "    if os.path.exists(CHROMA_PATH):\n",
    "        shutil.rmtree(CHROMA_PATH)\n",
    "\n",
    "    # https://huggingface.co/sentence-transformers\n",
    "    #embeddings = HuggingFaceEmbeddings(model_name='sentence-transformers/all-mpnet-base-v2')\n",
    "    embeddings = SentenceTransformerEmbeddings(model_name=\"all-MiniLM-L6-v2\")\n",
    "    \n",
    "    # Create a new DB from the documents.\n",
    "    db = Chroma.from_documents(\n",
    "        chunks, \n",
    "        embeddings, \n",
    "        persist_directory=CHROMA_PATH\n",
    "    )\n",
    "    \n",
    "    db.persist()\n",
    "    print(f\"Saved {len(chunks)} chunks to {CHROMA_PATH}.\")\n",
    "\n",
    "    return embeddings"
   ]
  },
  {
   "cell_type": "code",
   "execution_count": 133,
   "id": "54e2d292-dee8-45c1-97de-8a25261b517c",
   "metadata": {},
   "outputs": [
    {
     "name": "stdout",
     "output_type": "stream",
     "text": [
      "Saved 1492 chunks to chroma4.\n"
     ]
    }
   ],
   "source": [
    "embeddings = save_to_chroma(chunks)"
   ]
  },
  {
   "cell_type": "markdown",
   "id": "4ba36909",
   "metadata": {},
   "source": [
    "### Evaluator (For testing purposes)"
   ]
  },
  {
   "cell_type": "code",
   "execution_count": 134,
   "id": "ae549368-0851-4bd9-95f2-66e99bce12ed",
   "metadata": {},
   "outputs": [
    {
     "name": "stdout",
     "output_type": "stream",
     "text": [
      "Vector length: 512\n",
      "Comparing (apple, iphone): {'score': 0.30508241313171336}\n"
     ]
    }
   ],
   "source": [
    "#Function to turn the word apple to a vector\n",
    "from langchain.evaluation import load_evaluator\n",
    "\n",
    "vector = embeddings.embed_query(\"almendras\")\n",
    "#print(f\"Vector for 'apple': {vector}\") # Algunos pueden ser muy largos\n",
    "print(f\"Vector length: {len(vector)}\")\n",
    "\n",
    "# Compare vector of two words (distance between two words)\n",
    "# Esto nos ayudará a saber si dos palabras estas correlacionadas\n",
    "# Si comparamos dos palabras iguales, la distancia será prácticamente 0\n",
    "# Utilza por defecto OpenAI embeddings!\n",
    "evaluator = load_evaluator(\"embedding_distance\", embeddings=embeddings)\n",
    "\n",
    "words = (\"apple\", \"iphone\")\n",
    "x = evaluator.evaluate_strings(prediction=words[0], reference=words[1])\n",
    "print(f\"Comparing ({words[0]}, {words[1]}): {x}\")"
   ]
  },
  {
   "cell_type": "code",
   "execution_count": 50,
   "id": "1400ab01",
   "metadata": {},
   "outputs": [],
   "source": [
    "from langchain.llms import HuggingFacePipeline\n",
    "\n",
    "# Pipeline for inference\n",
    "def load_model():\n",
    "    text_generation_pipeline = pipeline(\n",
    "        model=model, # Model loaded in the first part\n",
    "        tokenizer=tokenizer, # Tokenizer loaded in the first part\n",
    "        task=\"text-generation\",\n",
    "        temperature=0.1,\n",
    "        repetition_penalty=1.1,\n",
    "        return_full_text=True,\n",
    "        max_new_tokens=300,\n",
    "        do_sample=True\n",
    "    )\n",
    "\n",
    "    hf = HuggingFacePipeline(pipeline=text_generation_pipeline)\n",
    "    return hf"
   ]
  },
  {
   "cell_type": "code",
   "execution_count": 136,
   "id": "7e3624ab",
   "metadata": {},
   "outputs": [],
   "source": [
    "llm = load_model()"
   ]
  },
  {
   "cell_type": "code",
   "execution_count": 137,
   "id": "6f0f66a8",
   "metadata": {},
   "outputs": [],
   "source": [
    "from langchain.prompts import PromptTemplate\n",
    "from langchain.chains import LLMChain\n",
    "from langchain_core.runnables import RunnablePassthrough, RunnableParallel\n",
    "from langchain_core.output_parsers import StrOutputParser\n",
    "\n",
    "def query_data(embeddings, llm):\n",
    "    \n",
    "    db = Chroma(persist_directory=CHROMA_PATH, embedding_function=embeddings)\n",
    "    \n",
    "    retriever = db.as_retriever()\n",
    "\n",
    "    prompt_template = \"\"\"\n",
    "    ### [INST]\n",
    "    Act as an expert doctor. Use the medical reports provided below to answer the question.\n",
    "\n",
    "    If you do not know the answer, or are unsure, say you don't know.\n",
    "    \n",
    "    {context}\n",
    "    \n",
    "    ### QUESTION:\n",
    "    {question}\n",
    "    \n",
    "    [/INST]\n",
    "     \"\"\"\n",
    "    \n",
    "    promptTemplate = PromptTemplate(\n",
    "        input_variables=[\"context\", \"question\"],\n",
    "        template=prompt_template\n",
    "    )\n",
    "    \n",
    "    #llm_chain = LLMChain(llm=llm, prompt=promptTemplate)\n",
    "\n",
    "    # RunnablePassthrough para pasar la query al siguiente step en la chain\n",
    "    #rag_chain = ( \n",
    "    # {\"context\": retriever, \"question\": RunnablePassthrough()}\n",
    "    #    | llm_chain\n",
    "    #)\n",
    "\n",
    "\n",
    "\n",
    "    setup_and_retrieval = RunnableParallel({\"question\": RunnablePassthrough(), \"context\": retriever })\n",
    "    output_parser = StrOutputParser()\n",
    "\n",
    "    # LCEL language to create the chain (de izquierda a derecha el output de uno se pasa al otro)\n",
    "    parent_retrieval_chain = setup_and_retrieval | promptTemplate | llm | output_parser\n",
    "\n",
    "    return parent_retrieval_chain"
   ]
  },
  {
   "cell_type": "code",
   "execution_count": null,
   "id": "5f545277-9e87-492f-8c03-dc48102d6b68",
   "metadata": {},
   "outputs": [],
   "source": [
    "chain = query_data(embeddings, llm)"
   ]
  },
  {
   "cell_type": "code",
   "execution_count": null,
   "id": "306142d6",
   "metadata": {},
   "outputs": [],
   "source": [
    "\n",
    "out = chain.invoke(\"Wich patient has a history of cholecystectomy\")\n",
    "print(out)"
   ]
  },
  {
   "cell_type": "code",
   "execution_count": 149,
   "id": "a06d2ad0",
   "metadata": {},
   "outputs": [],
   "source": [
    "#rag_chain = query_data(embeddings, llm)\n",
    "#query = \"\"\"Explícame el artículo 32. Acceso a números o servicios\"\"\"\n",
    "#answer = rag_chain.invoke(query)"
   ]
  },
  {
   "cell_type": "code",
   "execution_count": 150,
   "id": "d6c957c3",
   "metadata": {},
   "outputs": [
    {
     "data": {
      "text/plain": [
       "[Document(page_content='mecanismos  de notificación  a que se refieren  los artículos  32, 33 y 34 del Código \\nBOLETÍN OFICIAL DEL ESTADO\\nNúm. 155 Miércoles 29 de junio de 2022 Sec. I.   Pág. 91386\\ncve: BOE-A-2022-10757\\nVerificable en https://www.boe.es', metadata={'page': 133, 'source': 'data/BOE-A-2022-10757.pdf', 'start_index': 0}),\n",
       " Document(page_content='que corresponda.\\nBOLETÍN OFICIAL DEL ESTADO\\nNúm. 155 Miércoles 29 de junio de 2022 Sec. I.   Pág. 91287\\ncve: BOE-A-2022-10757\\nVerificable en https://www.boe.es', metadata={'page': 34, 'source': 'data/BOE-A-2022-10757.pdf', 'start_index': 0}),\n",
       " Document(page_content='cualquier persona física o jurídica que desee contribuir, desinteresadamente, a la \\nfinanciación de cualquier prestación propia del servicio universal.\\nLos operadores sujetos a obligaciones de prestación del servicio universal recibirán \\nde este fondo la cantidad correspondiente al coste neto que les supone dicha obligación, \\ncalculado según el procedimiento establecido en este artículo.\\nLa Comisión Nacional de los Mercados y la Competencia se encargará de la gestión', metadata={'page': 48, 'source': 'data/BOE-A-2022-10757.pdf', 'start_index': 2698}),\n",
       " Document(page_content='tener  repercusiones  en los intercambios  entre  Estados  miembros,  se someterán  a los \\nmecanismos  de notificación  a que se refieren  los artículos  32, 33 y 34 del Código \\nBOLETÍN OFICIAL DEL ESTADO\\nNúm. 155 Miércoles 29 de junio de 2022 Sec. I.   Pág. 91386', metadata={'page': 133, 'source': 'data/BOE-A-2022-10757.pdf', 'start_index': 3715})]"
      ]
     },
     "execution_count": 150,
     "metadata": {},
     "output_type": "execute_result"
    }
   ],
   "source": [
    "#answer['context']"
   ]
  },
  {
   "cell_type": "code",
   "execution_count": 151,
   "id": "27f45b99-dfbd-484f-8d0e-ce8c6633fa2a",
   "metadata": {},
   "outputs": [
    {
     "data": {
      "text/plain": [
       "\"\\n    ### [INST] Instrucción: Eres un experto en jurisdiccion, responde a la pregunta según tus conocimientos de jurisdiccion y el siguiente contexto:\\n    \\n    [Document(page_content='mecanismos  de notificación  a que se refieren  los artículos  32, 33 y 34 del Código \\\\nBOLETÍN OFICIAL DEL ESTADO\\\\nNúm. 155 Miércoles 29 de junio de 2022 Sec. I.   Pág. 91386\\\\ncve: BOE-A-2022-10757\\\\nVerificable en https://www.boe.es', metadata={'page': 133, 'source': 'data/BOE-A-2022-10757.pdf', 'start_index': 0}), Document(page_content='que corresponda.\\\\nBOLETÍN OFICIAL DEL ESTADO\\\\nNúm. 155 Miércoles 29 de junio de 2022 Sec. I.   Pág. 91287\\\\ncve: BOE-A-2022-10757\\\\nVerificable en https://www.boe.es', metadata={'page': 34, 'source': 'data/BOE-A-2022-10757.pdf', 'start_index': 0}), Document(page_content='cualquier persona física o jurídica que desee contribuir, desinteresadamente, a la \\\\nfinanciación de cualquier prestación propia del servicio universal.\\\\nLos operadores sujetos a obligaciones de prestación del servicio universal recibirán \\\\nde este fondo la cantidad correspondiente al coste neto que les supone dicha obligación, \\\\ncalculado según el procedimiento establecido en este artículo.\\\\nLa Comisión Nacional de los Mercados y la Competencia se encargará de la gestión', metadata={'page': 48, 'source': 'data/BOE-A-2022-10757.pdf', 'start_index': 2698}), Document(page_content='tener  repercusiones  en los intercambios  entre  Estados  miembros,  se someterán  a los \\\\nmecanismos  de notificación  a que se refieren  los artículos  32, 33 y 34 del Código \\\\nBOLETÍN OFICIAL DEL ESTADO\\\\nNúm. 155 Miércoles 29 de junio de 2022 Sec. I.   Pág. 91386', metadata={'page': 133, 'source': 'data/BOE-A-2022-10757.pdf', 'start_index': 3715})]\\n    \\n    ### PREGUNTA:\\n    Explícame el artículo 32.\\u2003Acceso a números o servicios (responde en castellano) [/INST]\\n      Artículo 32 del Código referenciado en el Boletín Oficial del Estado num. 155, de fecha 29 de junio de 2022, se refiere a mecanismos de notificación en el contexto del acceso a números o servicios. Sin embargo, el texto específico del artículo 32 no está proporcionado en el fragmento de documentos dado. Para obtener información detallada sobre este artículo, es necesario consultar el texto completo del Código o ley en cuestión.\\n\\nEn general, los artículos 32, 33 y 34 del Código tratan sobre mecanismos de notificación en el marco de las telecomunicaciones y servicios postales. Estos artículos establecen procedimientos para la notificación de ciertas situaciones, como la suspensión o interrupción de servicios, la modificación de tarifas o condiciones de contrato, y la resolución de disputas entre proveedores y usuarios.\\n\\nEl artículo 32 puede estar relacionado con la notificación de acceso a números o servicios, posiblemente en el contexto de la regulación\""
      ]
     },
     "execution_count": 151,
     "metadata": {},
     "output_type": "execute_result"
    }
   ],
   "source": [
    "#answer['text']"
   ]
  },
  {
   "cell_type": "code",
   "execution_count": 158,
   "id": "78b88de5-60e2-4aed-bdde-0b5be02b1e57",
   "metadata": {},
   "outputs": [
    {
     "name": "stdout",
     "output_type": "stream",
     "text": [
      "context: [Document(page_content='mecanismos  de notificación  a que se refieren  los artículos  32, 33 y 34 del Código \\nBOLETÍN OFICIAL DEL ESTADO\\nNúm. 155 Miércoles 29 de junio de 2022 Sec. I.   Pág. 91386\\ncve: BOE-A-2022-10757\\nVerificable en https://www.boe.es', metadata={'page': 133, 'source': 'data/BOE-A-2022-10757.pdf', 'start_index': 0}), Document(page_content='que corresponda.\\nBOLETÍN OFICIAL DEL ESTADO\\nNúm. 155 Miércoles 29 de junio de 2022 Sec. I.   Pág. 91287\\ncve: BOE-A-2022-10757\\nVerificable en https://www.boe.es', metadata={'page': 34, 'source': 'data/BOE-A-2022-10757.pdf', 'start_index': 0}), Document(page_content='cualquier persona física o jurídica que desee contribuir, desinteresadamente, a la \\nfinanciación de cualquier prestación propia del servicio universal.\\nLos operadores sujetos a obligaciones de prestación del servicio universal recibirán \\nde este fondo la cantidad correspondiente al coste neto que les supone dicha obligación, \\ncalculado según el procedimiento establecido en este artículo.\\nLa Comisión Nacional de los Mercados y la Competencia se encargará de la gestión', metadata={'page': 48, 'source': 'data/BOE-A-2022-10757.pdf', 'start_index': 2698}), Document(page_content='tener  repercusiones  en los intercambios  entre  Estados  miembros,  se someterán  a los \\nmecanismos  de notificación  a que se refieren  los artículos  32, 33 y 34 del Código \\nBOLETÍN OFICIAL DEL ESTADO\\nNúm. 155 Miércoles 29 de junio de 2022 Sec. I.   Pág. 91386', metadata={'page': 133, 'source': 'data/BOE-A-2022-10757.pdf', 'start_index': 3715})]\n",
      "question: Explícame el artículo 32. Acceso a números o servicios\n",
      "text: \n",
      "    ### [INST] Instrucción: Eres un experto en jurisdiccion, responde a la pregunta según tus conocimientos de jurisdiccion y el siguiente contexto:\n",
      "    \n",
      "    [Document(page_content='mecanismos  de notificación  a que se refieren  los artículos  32, 33 y 34 del Código \\nBOLETÍN OFICIAL DEL ESTADO\\nNúm. 155 Miércoles 29 de junio de 2022 Sec. I.   Pág. 91386\\ncve: BOE-A-2022-10757\\nVerificable en https://www.boe.es', metadata={'page': 133, 'source': 'data/BOE-A-2022-10757.pdf', 'start_index': 0}), Document(page_content='que corresponda.\\nBOLETÍN OFICIAL DEL ESTADO\\nNúm. 155 Miércoles 29 de junio de 2022 Sec. I.   Pág. 91287\\ncve: BOE-A-2022-10757\\nVerificable en https://www.boe.es', metadata={'page': 34, 'source': 'data/BOE-A-2022-10757.pdf', 'start_index': 0}), Document(page_content='cualquier persona física o jurídica que desee contribuir, desinteresadamente, a la \\nfinanciación de cualquier prestación propia del servicio universal.\\nLos operadores sujetos a obligaciones de prestación del servicio universal recibirán \\nde este fondo la cantidad correspondiente al coste neto que les supone dicha obligación, \\ncalculado según el procedimiento establecido en este artículo.\\nLa Comisión Nacional de los Mercados y la Competencia se encargará de la gestión', metadata={'page': 48, 'source': 'data/BOE-A-2022-10757.pdf', 'start_index': 2698}), Document(page_content='tener  repercusiones  en los intercambios  entre  Estados  miembros,  se someterán  a los \\nmecanismos  de notificación  a que se refieren  los artículos  32, 33 y 34 del Código \\nBOLETÍN OFICIAL DEL ESTADO\\nNúm. 155 Miércoles 29 de junio de 2022 Sec. I.   Pág. 91386', metadata={'page': 133, 'source': 'data/BOE-A-2022-10757.pdf', 'start_index': 3715})]\n",
      "    \n",
      "    ### PREGUNTA:\n",
      "    Explícame el artículo 32. Acceso a números o servicios (responde en castellano) [/INST]\n",
      "      Artículo 32 del Código referenciado en el Boletín Oficial del Estado num. 155, de fecha 29 de junio de 2022, se refiere a mecanismos de notificación en el contexto del acceso a números o servicios. Sin embargo, el texto específico del artículo 32 no está proporcionado en el fragmento de documentos dado. Para obtener información detallada sobre este artículo, es necesario consultar el texto completo del Código o ley en cuestión.\n",
      "\n",
      "En general, los artículos 32, 33 y 34 del Código tratan sobre mecanismos de notificación en el marco de las telecomunicaciones y servicios postales. Estos artículos establecen procedimientos para la notificación de ciertas situaciones, como la suspensión o interrupción de servicios, la modificación de tarifas o condiciones de contrato, y la resolución de disputas entre proveedores y usuarios.\n",
      "\n",
      "El artículo 32 puede estar relacionado con la notificación de acceso a números o servicios, posiblemente en el contexto de la regulación\n"
     ]
    }
   ],
   "source": [
    "indent = 0\n",
    "for key, value in answer.items():\n",
    "    if isinstance(value, dict):\n",
    "        print('  ' * indent + f'{key}:')\n",
    "        pretty_print_dict(value, indent + 1)\n",
    "    else:\n",
    "        print('  ' * indent + f'{key}: {value}')"
   ]
  },
  {
   "cell_type": "code",
   "execution_count": null,
   "id": "553b2cf7-0732-4c22-85d1-b872d53b56e2",
   "metadata": {},
   "outputs": [],
   "source": []
  },
  {
   "cell_type": "code",
   "execution_count": null,
   "id": "61fb4507",
   "metadata": {},
   "outputs": [],
   "source": []
  },
  {
   "cell_type": "code",
   "execution_count": null,
   "id": "fd7ab3de",
   "metadata": {},
   "outputs": [],
   "source": []
  }
 ],
 "metadata": {
  "kernelspec": {
   "display_name": "Python 3 (ipykernel)",
   "language": "python",
   "name": "python3"
  },
  "language_info": {
   "codemirror_mode": {
    "name": "ipython",
    "version": 3
   },
   "file_extension": ".py",
   "mimetype": "text/x-python",
   "name": "python",
   "nbconvert_exporter": "python",
   "pygments_lexer": "ipython3",
   "version": "3.11.9"
  }
 },
 "nbformat": 4,
 "nbformat_minor": 5
}
