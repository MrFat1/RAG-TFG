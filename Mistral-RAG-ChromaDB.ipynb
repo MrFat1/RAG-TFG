{
 "cells": [
  {
   "cell_type": "code",
   "execution_count": null,
   "id": "3289c7f0",
   "metadata": {},
   "outputs": [],
   "source": [
    "# https://www.youtube.com/watch?v=rIV1EseKwU4&ab_channel=AIAnytime"
   ]
  },
  {
   "cell_type": "code",
   "execution_count": null,
   "id": "97d4df8c-e93f-4d88-82d9-8b2fe566f290",
   "metadata": {},
   "outputs": [],
   "source": []
  },
  {
   "cell_type": "code",
   "execution_count": 1,
   "id": "842c4bfd",
   "metadata": {},
   "outputs": [],
   "source": [
    "!pip install -q chromadb\n",
    "!pip install -q torch torchvision torchaudio --index-url https://download.pytorch.org/whl/cu121\n",
    "!pip install -q transformers\n",
    "!pip install -q langchain\n",
    "!pip install -q git+https://github.com/huggingface/peft.git\n",
    "!pip install -q bitsandbytes\n",
    "!pip install -q trl\n",
    "!pip install -q sentence_transformers\n",
    "!pip install -q pypdf"
   ]
  },
  {
   "cell_type": "code",
   "execution_count": 2,
   "id": "54a272d8-a547-43c0-b2fa-7e1d8f8a8d45",
   "metadata": {},
   "outputs": [
    {
     "name": "stdout",
     "output_type": "stream",
     "text": [
      "\n",
      "Copy-and-paste the text below in your GitHub issue and FILL OUT the two last points.\n",
      "\n",
      "- `transformers` version: 4.39.2\n",
      "- Platform: Windows-10-10.0.22621-SP0\n",
      "- Python version: 3.11.8\n",
      "- Huggingface_hub version: 0.22.1\n",
      "- Safetensors version: 0.4.2\n",
      "- Accelerate version: 0.28.0\n",
      "- Accelerate config: \tnot found\n",
      "- PyTorch version (GPU?): 2.2.2+cu121 (True)\n",
      "- Tensorflow version (GPU?): not installed (NA)\n",
      "- Flax version (CPU?/GPU?/TPU?): not installed (NA)\n",
      "- Jax version: not installed\n",
      "- JaxLib version: not installed\n",
      "- Using GPU in script?: <fill in>\n",
      "- Using distributed or parallel set-up in script?: <fill in>\n",
      "\n"
     ]
    }
   ],
   "source": [
    "!transformers-cli env"
   ]
  },
  {
   "cell_type": "code",
   "execution_count": 8,
   "id": "cbea2ba0",
   "metadata": {},
   "outputs": [],
   "source": [
    "import os\n",
    "import torch\n",
    "from peft import LoraConfig, PeftModel\n",
    "from transformers import (\n",
    "    AutoModelForCausalLM,\n",
    "    AutoTokenizer,\n",
    "    BitsAndBytesConfig,\n",
    "    TrainingArguments,\n",
    "    pipeline,\n",
    "    logging,\n",
    ")\n",
    "from trl import SFTTrainer"
   ]
  },
  {
   "cell_type": "code",
   "execution_count": null,
   "id": "9f95cbd3-ea3c-4c98-9adc-eb09d0f4425f",
   "metadata": {},
   "outputs": [],
   "source": []
  },
  {
   "cell_type": "code",
   "execution_count": 26,
   "id": "8539f952",
   "metadata": {},
   "outputs": [],
   "source": [
    "#################################################################\n",
    "# Tokenizer\n",
    "#################################################################\n",
    "\n",
    "model_name='mistralai/Mistral-7B-Instruct-v0.2'\n",
    "\n",
    "tokenizer = AutoTokenizer.from_pretrained(model_name, trust_remote_code=True)\n",
    "tokenizer.pad_token = tokenizer.eos_token\n",
    "tokenizer.padding_side = \"right\""
   ]
  },
  {
   "cell_type": "code",
   "execution_count": 27,
   "id": "d418af5e",
   "metadata": {},
   "outputs": [],
   "source": [
    "#################################################################\n",
    "# bitsandbytes parameters\n",
    "#################################################################\n",
    "\n",
    "# Activate 4-bit precision base model loading\n",
    "use_4bit = True\n",
    "\n",
    "# Compute dtype for 4-bit base models\n",
    "bnb_4bit_compute_dtype = \"bfloat16\"\n",
    "\n",
    "# Quantization type (fp4 or nf4)\n",
    "bnb_4bit_quant_type = \"nf4\"\n",
    "\n",
    "# Activate nested quantization for 4-bit base models (double quantization)\n",
    "use_nested_quant = False\n",
    "\n",
    "# Device partition\n",
    "device_map = \"auto\""
   ]
  },
  {
   "cell_type": "code",
   "execution_count": 28,
   "id": "e165472c",
   "metadata": {},
   "outputs": [],
   "source": [
    "#################################################################\n",
    "# Set up quantization config\n",
    "#################################################################\n",
    "compute_dtype = getattr(torch, bnb_4bit_compute_dtype)\n",
    "\n",
    "bnb_config = BitsAndBytesConfig(\n",
    "    load_in_4bit=use_4bit,\n",
    "    bnb_4bit_quant_type=bnb_4bit_quant_type,\n",
    "    bnb_4bit_compute_dtype=compute_dtype,\n",
    "    bnb_4bit_use_double_quant=use_nested_quant,\n",
    ")\n",
    "\n",
    "# Check GPU compatibility with bfloat16\n",
    "if compute_dtype == torch.float16 and use_4bit:\n",
    "    major, _ = torch.cuda.get_device_capability()\n",
    "    if major >= 8:\n",
    "        print(\"=\" * 80)\n",
    "        print(\"Your GPU supports bfloat16: accelerate training with bf16=True\")\n",
    "        print(\"=\" * 80)"
   ]
  },
  {
   "cell_type": "code",
   "execution_count": 29,
   "id": "638269f5",
   "metadata": {},
   "outputs": [
    {
     "data": {
      "application/vnd.jupyter.widget-view+json": {
       "model_id": "d661f0c79d3048e68c0ad581719f1752",
       "version_major": 2,
       "version_minor": 0
      },
      "text/plain": [
       "Loading checkpoint shards:   0%|          | 0/3 [00:00<?, ?it/s]"
      ]
     },
     "metadata": {},
     "output_type": "display_data"
    }
   ],
   "source": [
    "#################################################################\n",
    "# Load pre-trained config\n",
    "#################################################################\n",
    "model = AutoModelForCausalLM.from_pretrained(\n",
    "    model_name,\n",
    "    quantization_config=bnb_config,\n",
    "    low_cpu_mem_usage = True,\n",
    "    device_map = device_map\n",
    ")"
   ]
  },
  {
   "cell_type": "code",
   "execution_count": 163,
   "id": "f7cea834",
   "metadata": {},
   "outputs": [
    {
     "name": "stdout",
     "output_type": "stream",
     "text": [
      "Explícame el artículo 5. Régimen de libre competencia.\n",
      "\n",
      "El artículo 5 de la Constitución Española de 1978 establece el régimen de libre competencia en España. Según este artículo, todos los españoles tienen derecho a ejercer libremente cualquier actividad económica, salvo aquellas que sean expresamente reservadas a los estados o a las comunidades autónomas por la Constitución o por las leyes.\n",
      "\n",
      "Además, el artículo 5 garantiza la no discriminación entre españoles en materia económica, lo que significa que todos tienen la misma oportunidad de participar en el mercado laboral y empresarial, sin distinción de origen, sexo, edad, religión o cualquier otra característica personal.\n",
      "\n",
      "Por otro lado, el artículo 5 también establece la libertad de precios, lo que significa que los precios de los bienes y servicios se determinan libremente en el mercado, sin intervención directa del Estado. Sin embargo, el Estado puede estable\n"
     ]
    }
   ],
   "source": [
    "#################################################################\n",
    "# Base inference\n",
    "#################################################################\n",
    "\n",
    "prompt = \"\"\"Explícame el artículo 5. Régimen de libre competencia\"\"\"\n",
    "\n",
    "# CUDA: Para programar directamente la GPU\n",
    "model_input = tokenizer(prompt, return_tensors=\"pt\").to(\"cuda\")\n",
    "\n",
    "model.eval()\n",
    "with torch.no_grad():\n",
    "    print(tokenizer.decode(model.generate(**model_input, max_new_tokens=256, pad_token_id=2)[0], skip_special_tokens=True))"
   ]
  },
  {
   "cell_type": "markdown",
   "id": "4b402052",
   "metadata": {},
   "source": [
    "## LangChain"
   ]
  },
  {
   "cell_type": "code",
   "execution_count": 128,
   "id": "e90d61c7",
   "metadata": {},
   "outputs": [],
   "source": [
    "import pypdf\n",
    "from langchain.document_loaders import DirectoryLoader, PyPDFLoader, PDFMinerLoader\n",
    "from pypdf import PdfReader\n",
    "\n",
    "CHROMA_PATH = \"chroma4\"\n",
    "DATA_PATH = \"data\"\n",
    "\n",
    "def get_pdf_text():\n",
    "    loader = PyPDFLoader(\"data/BOE-A-2022-10757.pdf\")\n",
    "    pages = loader.load_and_split()\n",
    "    \n",
    "    return pages"
   ]
  },
  {
   "cell_type": "code",
   "execution_count": 129,
   "id": "9ca0fdae-864b-4b65-8582-c0f96f6fefdd",
   "metadata": {},
   "outputs": [
    {
     "name": "stdout",
     "output_type": "stream",
     "text": [
      "page_content='I. DISPOSICIONES GENERALES\\nJEFATURA DEL ESTADO\\n10757 Ley 11/2022, de 28 de junio, General de Telecomunicaciones.\\nFELIPE VI\\nREY DE ESPAÑA\\nA todos los que la presente vieren y entendieren.\\nSabed: Que las Cortes Generales han aprobado y Yo vengo en sancionar la \\nsiguiente ley:\\nPREÁMBULO\\nI\\nTítulo I.\\u2003Disposiciones generales.\\nArtículo 1.\\u2003Objeto y ámbito de aplicación de la ley.\\nArtículo 2.\\u2003Las telecomunicaciones como servicios de interés general.\\nArtículo 3.\\u2003Objetivos y principios de la ley.\\nArtículo 4. \\u2003Servicios de telecomunicaciones para la seguridad nacional, la defensa \\nnacional, la seguridad pública, la seguridad vial y la protección civil.\\nTítulo II. \\u2003Suministro de redes y prestación de servicios de comunicaciones \\nelectrónicas en régimen de libre competencia.\\nCapítulo I.\\u2003Disposiciones generales.\\nArtículo 5.\\u2003Régimen de libre competencia.\\nArtículo 6.\\u2003 Requisitos exigibles para el suministro de las redes y la prestación de los \\nservicios de comunicaciones electrónicas.\\nArtículo 7.\\u2003Registro de operadores.\\nArtículo 8. \\u2003Condiciones para el suministro de redes y prestación de servicios de \\ncomunicaciones electrónicas.\\nArtículo 9.\\u2003Obligaciones de suministro de información.\\nArtículo 10.\\u2003Normas técnicas.\\nCapítulo II.\\u2003Notificaciones.\\nArtículo 11.\\u2003Derechos derivados de la notificación.\\nArtículo 12.\\u2003Obligaciones derivadas de la notificación.\\nArtículo 13.\\u2003Suministro de redes públicas y prestación de servicios de comunicaciones \\nelectrónicas en régimen de prestación a terceros por las Administraciones públicas.\\nCapítulo III.\\u2003Acceso a las redes y recursos asociados e interconexión.\\nArtículo 14.\\u2003Principios generales aplicables al acceso a las redes y recursos asociados \\ny a su interconexión.\\nCapítulo IV.\\u2003Regulación ex ante  de los mercados.\\nArtículo 15.\\u2003Definición de mercados de referencia.\\nArtículo 16.\\u2003Análisis de mercados de referencia.\\nArtículo 17.\\u2003Procedimiento para la imposición de obligaciones específicas.\\nBOLETÍN OFICIAL DEL ESTADO\\nNúm. 155 Miércoles 29 de junio de 2022 Sec. I.   Pág. 91253\\ncve: BOE-A-2022-10757\\nVerificable en https://www.boe.es' metadata={'source': 'data/BOE-A-2022-10757.pdf', 'page': 0}\n"
     ]
    }
   ],
   "source": [
    "documents = get_pdf_text()\n",
    "print(documents[0])"
   ]
  },
  {
   "cell_type": "code",
   "execution_count": 130,
   "id": "0afe3357",
   "metadata": {},
   "outputs": [],
   "source": [
    "from langchain.text_splitter import RecursiveCharacterTextSplitter\n",
    "from langchain.vectorstores.chroma import Chroma\n",
    "from langchain.embeddings import SentenceTransformerEmbeddings\n",
    "\n",
    "def split_text(documents):\n",
    "    text_splitter = RecursiveCharacterTextSplitter(\n",
    "        chunk_size=1000,\n",
    "        chunk_overlap=0,\n",
    "        length_function=len,\n",
    "        add_start_index=True\n",
    "    )\n",
    "    \n",
    "    chunks = text_splitter.split_documents(documents)\n",
    "    print(f\"Split {len(documents)} documents into {len(chunks)} chunks.\")\n",
    "\n",
    "    # Cogemos un chunk aleatorio\n",
    "    document = chunks[10]\n",
    "    print(document.page_content) # Printeamos su contenido\n",
    "    print(document.metadata) # Y su metadata (Fichero al que pertenece y donde empieza 'start_index')\n",
    "    \n",
    "    return chunks"
   ]
  },
  {
   "cell_type": "code",
   "execution_count": 131,
   "id": "9d8b63ae-4084-4305-99c7-ee30c0f22214",
   "metadata": {},
   "outputs": [
    {
     "name": "stdout",
     "output_type": "stream",
     "text": [
      "Split 247 documents into 1492 chunks.\n",
      "Capítulo II.  Derechos de los operadores y despliegue de redes públicas de \n",
      "comunicaciones electrónicas.\n",
      "Sección 1.ª  Derechos de los operadores a la ocupación del dominio público, a ser \n",
      "beneficiarios en el procedimiento de expropiación forzosa y al establecimiento a su favor \n",
      "de servidumbres y de limitaciones a la propiedad.\n",
      "Artículo 44. Derecho de ocupación de la propiedad privada.\n",
      "Artículo 45. Derecho de ocupación del dominio público.\n",
      "{'source': 'data/BOE-A-2022-10757.pdf', 'page': 2, 'start_index': 0}\n"
     ]
    }
   ],
   "source": [
    "chunks = split_text(documents)"
   ]
  },
  {
   "cell_type": "code",
   "execution_count": 132,
   "id": "84a18408",
   "metadata": {},
   "outputs": [],
   "source": [
    "from langchain.text_splitter import RecursiveCharacterTextSplitter\n",
    "from langchain.vectorstores.chroma import Chroma\n",
    "from langchain.embeddings import SentenceTransformerEmbeddings\n",
    "import shutil\n",
    "import chromadb\n",
    "\n",
    "def save_to_chroma(chunks):\n",
    "    \n",
    "    # Clear out the database first if already exists.\n",
    "    if os.path.exists(CHROMA_PATH):\n",
    "        shutil.rmtree(CHROMA_PATH)\n",
    "    \n",
    "    #embeddings = HuggingFaceEmbeddings(model_name='sentence-transformers/all-mpnet-base-v2')\n",
    "    embeddings = SentenceTransformerEmbeddings(model_name=\"distiluse-base-multilingual-cased-v2\")\n",
    "    \n",
    "    # Create a new DB from the documents.\n",
    "    db = Chroma.from_documents(\n",
    "        chunks, \n",
    "        embeddings, \n",
    "        persist_directory=CHROMA_PATH\n",
    "    )\n",
    "    \n",
    "    db.persist()\n",
    "    print(f\"Saved {len(chunks)} chunks to {CHROMA_PATH}.\")\n",
    "\n",
    "    return embeddings"
   ]
  },
  {
   "cell_type": "code",
   "execution_count": 133,
   "id": "54e2d292-dee8-45c1-97de-8a25261b517c",
   "metadata": {},
   "outputs": [
    {
     "name": "stdout",
     "output_type": "stream",
     "text": [
      "Saved 1492 chunks to chroma4.\n"
     ]
    }
   ],
   "source": [
    "embeddings = save_to_chroma(chunks)"
   ]
  },
  {
   "cell_type": "code",
   "execution_count": 134,
   "id": "ae549368-0851-4bd9-95f2-66e99bce12ed",
   "metadata": {},
   "outputs": [
    {
     "name": "stdout",
     "output_type": "stream",
     "text": [
      "Vector length: 512\n",
      "Comparing (apple, iphone): {'score': 0.30508241313171336}\n"
     ]
    }
   ],
   "source": [
    "#Function to turn the word apple to a vector\n",
    "from langchain.evaluation import load_evaluator\n",
    "\n",
    "vector = embeddings.embed_query(\"almendras\")\n",
    "#print(f\"Vector for 'apple': {vector}\")\n",
    "print(f\"Vector length: {len(vector)}\")\n",
    "\n",
    "# Compare vector of two words (distance between two words)\n",
    "# Esto nos ayudará a saber si dos palabras estas correlacionadas\n",
    "# Si comparamos dos palabras iguales, la distancia será prácticamente 0\n",
    "# Utilza por defecto OpenAI embeddings!\n",
    "evaluator = load_evaluator(\"embedding_distance\", embeddings=embeddings)\n",
    "\n",
    "words = (\"apple\", \"iphone\")\n",
    "x = evaluator.evaluate_strings(prediction=words[0], reference=words[1])\n",
    "print(f\"Comparing ({words[0]}, {words[1]}): {x}\")"
   ]
  },
  {
   "cell_type": "code",
   "execution_count": 135,
   "id": "1400ab01",
   "metadata": {},
   "outputs": [],
   "source": [
    "from langchain.llms import HuggingFacePipeline\n",
    "from langchain.prompts import PromptTemplate\n",
    "\n",
    "def load_model():\n",
    "    text_generation_pipeline = pipeline(\n",
    "        model=model,\n",
    "        tokenizer=tokenizer,\n",
    "        task=\"text-generation\",\n",
    "        temperature=0.1,\n",
    "        repetition_penalty=1.1,\n",
    "        return_full_text=True,\n",
    "        max_new_tokens=300,\n",
    "        do_sample=True\n",
    "    )\n",
    "\n",
    "    hf = HuggingFacePipeline(pipeline=text_generation_pipeline)\n",
    "    return hf"
   ]
  },
  {
   "cell_type": "code",
   "execution_count": 136,
   "id": "7e3624ab",
   "metadata": {},
   "outputs": [],
   "source": [
    "llm = load_model()"
   ]
  },
  {
   "cell_type": "code",
   "execution_count": 137,
   "id": "6f0f66a8",
   "metadata": {},
   "outputs": [],
   "source": [
    "from langchain.prompts import PromptTemplate\n",
    "from langchain.schema.runnable import RunnablePassthrough\n",
    "from langchain.chains import LLMChain\n",
    "\n",
    "def query_data2(embeddings, llm):\n",
    "    \n",
    "    db = Chroma(persist_directory=CHROMA_PATH, embedding_function=embeddings)\n",
    "    \n",
    "    retriever = db.as_retriever()\n",
    "\n",
    "    prompt_template = \"\"\"\n",
    "    ### [INST] Instrucción: Eres un experto en jurisdiccion, responde a la pregunta según tus conocimientos de jurisdiccion y el siguiente contexto:\n",
    "    \n",
    "    {context}\n",
    "    \n",
    "    ### PREGUNTA:\n",
    "    {question} (responde en castellano) [/INST]\n",
    "     \"\"\"\n",
    "    \n",
    "    promptTemplate = PromptTemplate(\n",
    "        input_variables=[\"context\", \"question\"],\n",
    "        template=prompt_template\n",
    "    )\n",
    "    \n",
    "    llm_chain = LLMChain(llm=llm, prompt=promptTemplate)\n",
    "\n",
    "    # RunnablePassthrough para pasar la query al siguiente step en la chain\n",
    "    rag_chain = ( \n",
    "     {\"context\": retriever, \"question\": RunnablePassthrough()}\n",
    "        | llm_chain\n",
    "    )\n",
    "\n",
    "    return rag_chain"
   ]
  },
  {
   "cell_type": "code",
   "execution_count": null,
   "id": "e09d5bfe-c786-400b-8732-d8429b721951",
   "metadata": {},
   "outputs": [],
   "source": []
  },
  {
   "cell_type": "code",
   "execution_count": 138,
   "id": "5e4c6d3c-c6cd-485e-89e9-25dac5ce1778",
   "metadata": {},
   "outputs": [],
   "source": [
    "#db = Chroma(persist_directory=CHROMA_PATH, embedding_function=embeddings)\n",
    "#query = \"\"\"En que consiste el Artículo 13\"\"\"\n",
    "#results = db.similarity_search_with_relevance_scores(query, k=3)\n",
    "#context_text = \"\\n\\n---\\n\\n\".join([doc.page_content for doc, _score in results])\n",
    "#print(context_text)"
   ]
  },
  {
   "cell_type": "code",
   "execution_count": null,
   "id": "5f545277-9e87-492f-8c03-dc48102d6b68",
   "metadata": {},
   "outputs": [],
   "source": []
  },
  {
   "cell_type": "code",
   "execution_count": 159,
   "id": "a06d2ad0",
   "metadata": {},
   "outputs": [],
   "source": [
    "rag_chain = query_data2(embeddings, llm)\n",
    "query = \"\"\"Explícame el artículo 5. Régimen de libre competencia\"\"\"\n",
    "answer = rag_chain.invoke(query)"
   ]
  },
  {
   "cell_type": "code",
   "execution_count": 160,
   "id": "d6c957c3",
   "metadata": {},
   "outputs": [
    {
     "data": {
      "text/plain": [
       "[Document(page_content='normativa específica sobre las telecomunicaciones relacionadas con el orden público, la \\nseguridad pública, la defensa nacional y la seguridad nacional.\\nTÍTULO II\\nSuministro de redes y prestación de servicios de comunicaciones electrónicas \\nen régimen de libre competencia\\nCAPÍTULO I\\nDisposiciones generales\\nArtículo 5. \\u2003Régimen de libre competencia.\\nLa instalación y explotación de las redes y la prestación de los servicios de', metadata={'page': 16, 'source': 'data/BOE-A-2022-10757.pdf', 'start_index': 866}),\n",
       " Document(page_content='Artículo 4. \\u2003Servicios de telecomunicaciones para la seguridad nacional, la defensa \\nnacional, la seguridad pública, la seguridad vial y la protección civil.\\nTítulo II. \\u2003Suministro de redes y prestación de servicios de comunicaciones \\nelectrónicas en régimen de libre competencia.\\nCapítulo I.\\u2003Disposiciones generales.\\nArtículo 5.\\u2003Régimen de libre competencia.\\nArtículo 6.\\u2003 Requisitos exigibles para el suministro de las redes y la prestación de los \\nservicios de comunicaciones electrónicas.', metadata={'page': 0, 'source': 'data/BOE-A-2022-10757.pdf', 'start_index': 491}),\n",
       " Document(page_content='considere que, debido a las características específicas de tales mercados, no se podría \\nhacer frente de otro modo a dichos problemas de competencia.\\n4.\\u2003La Comisión Nacional de los Mercados y la Competencia deberá supervisar \\ncontinuamente el cumplimiento de los compromisos de coinversión y podrá exigir al \\noperador con peso significativo en el mercado que le facilite cada año declaraciones \\nde cumplimiento.\\n5.\\u2003Lo dispuesto en el presente artículo se entiende sin perjuicio de la facultad de la', metadata={'page': 34, 'source': 'data/BOE-A-2022-10757.pdf', 'start_index': 438}),\n",
       " Document(page_content='que corresponda.\\nBOLETÍN OFICIAL DEL ESTADO\\nNúm. 155 Miércoles 29 de junio de 2022 Sec. I.   Pág. 91287\\ncve: BOE-A-2022-10757\\nVerificable en https://www.boe.es', metadata={'page': 34, 'source': 'data/BOE-A-2022-10757.pdf', 'start_index': 0})]"
      ]
     },
     "execution_count": 160,
     "metadata": {},
     "output_type": "execute_result"
    }
   ],
   "source": [
    "answer['context']"
   ]
  },
  {
   "cell_type": "code",
   "execution_count": 161,
   "id": "27f45b99-dfbd-484f-8d0e-ce8c6633fa2a",
   "metadata": {},
   "outputs": [
    {
     "data": {
      "text/plain": [
       "'\\n    ### [INST] Instrucción: Eres un experto en jurisdiccion, responde a la pregunta según tus conocimientos de jurisdiccion y el siguiente contexto:\\n    \\n    [Document(page_content=\\'normativa específica sobre las telecomunicaciones relacionadas con el orden público, la \\\\nseguridad pública, la defensa nacional y la seguridad nacional.\\\\nTÍTULO II\\\\nSuministro de redes y prestación de servicios de comunicaciones electrónicas \\\\nen régimen de libre competencia\\\\nCAPÍTULO I\\\\nDisposiciones generales\\\\nArtículo 5. \\\\u2003Régimen de libre competencia.\\\\nLa instalación y explotación de las redes y la prestación de los servicios de\\', metadata={\\'page\\': 16, \\'source\\': \\'data/BOE-A-2022-10757.pdf\\', \\'start_index\\': 866}), Document(page_content=\\'Artículo 4. \\\\u2003Servicios de telecomunicaciones para la seguridad nacional, la defensa \\\\nnacional, la seguridad pública, la seguridad vial y la protección civil.\\\\nTítulo II. \\\\u2003Suministro de redes y prestación de servicios de comunicaciones \\\\nelectrónicas en régimen de libre competencia.\\\\nCapítulo I.\\\\u2003Disposiciones generales.\\\\nArtículo 5.\\\\u2003Régimen de libre competencia.\\\\nArtículo 6.\\\\u2003 Requisitos exigibles para el suministro de las redes y la prestación de los \\\\nservicios de comunicaciones electrónicas.\\', metadata={\\'page\\': 0, \\'source\\': \\'data/BOE-A-2022-10757.pdf\\', \\'start_index\\': 491}), Document(page_content=\\'considere que, debido a las características específicas de tales mercados, no se podría \\\\nhacer frente de otro modo a dichos problemas de competencia.\\\\n4.\\\\u2003La Comisión Nacional de los Mercados y la Competencia deberá supervisar \\\\ncontinuamente el cumplimiento de los compromisos de coinversión y podrá exigir al \\\\noperador con peso significativo en el mercado que le facilite cada año declaraciones \\\\nde cumplimiento.\\\\n5.\\\\u2003Lo dispuesto en el presente artículo se entiende sin perjuicio de la facultad de la\\', metadata={\\'page\\': 34, \\'source\\': \\'data/BOE-A-2022-10757.pdf\\', \\'start_index\\': 438}), Document(page_content=\\'que corresponda.\\\\nBOLETÍN OFICIAL DEL ESTADO\\\\nNúm. 155 Miércoles 29 de junio de 2022 Sec. I.   Pág. 91287\\\\ncve: BOE-A-2022-10757\\\\nVerificable en https://www.boe.es\\', metadata={\\'page\\': 34, \\'source\\': \\'data/BOE-A-2022-10757.pdf\\', \\'start_index\\': 0})]\\n    \\n    ### PREGUNTA:\\n    Explícame el artículo 5.\\u2003Régimen de libre competencia (responde en castellano) [/INST]\\n      El Artículo 5. \"Régimen de libre competencia\" establece que la instalación y explotación de redes de telecomunicaciones y la prestación de servicios de comunicaciones electrónicas se realizarán en régimen de libre competencia. Sin embargo, debido a las características específicas de este mercado, no se podría hacer frente a problemas de competencia de otra forma. La Comisión Nacional de los Mercados y la Competencia deberá supervisar continuamente el cumplimiento de los compromisos de coinversión y puede exigir al operador con peso significante en el mercado que le facilite anualmente declaraciones de cumplimiento. Este artículo no quita derechos o facultades que correspondan a quienes lo determinen.'"
      ]
     },
     "execution_count": 161,
     "metadata": {},
     "output_type": "execute_result"
    }
   ],
   "source": [
    "answer['text']"
   ]
  },
  {
   "cell_type": "code",
   "execution_count": 162,
   "id": "78b88de5-60e2-4aed-bdde-0b5be02b1e57",
   "metadata": {},
   "outputs": [
    {
     "name": "stdout",
     "output_type": "stream",
     "text": [
      "context: [Document(page_content='normativa específica sobre las telecomunicaciones relacionadas con el orden público, la \\nseguridad pública, la defensa nacional y la seguridad nacional.\\nTÍTULO II\\nSuministro de redes y prestación de servicios de comunicaciones electrónicas \\nen régimen de libre competencia\\nCAPÍTULO I\\nDisposiciones generales\\nArtículo 5. \\u2003Régimen de libre competencia.\\nLa instalación y explotación de las redes y la prestación de los servicios de', metadata={'page': 16, 'source': 'data/BOE-A-2022-10757.pdf', 'start_index': 866}), Document(page_content='Artículo 4. \\u2003Servicios de telecomunicaciones para la seguridad nacional, la defensa \\nnacional, la seguridad pública, la seguridad vial y la protección civil.\\nTítulo II. \\u2003Suministro de redes y prestación de servicios de comunicaciones \\nelectrónicas en régimen de libre competencia.\\nCapítulo I.\\u2003Disposiciones generales.\\nArtículo 5.\\u2003Régimen de libre competencia.\\nArtículo 6.\\u2003 Requisitos exigibles para el suministro de las redes y la prestación de los \\nservicios de comunicaciones electrónicas.', metadata={'page': 0, 'source': 'data/BOE-A-2022-10757.pdf', 'start_index': 491}), Document(page_content='considere que, debido a las características específicas de tales mercados, no se podría \\nhacer frente de otro modo a dichos problemas de competencia.\\n4.\\u2003La Comisión Nacional de los Mercados y la Competencia deberá supervisar \\ncontinuamente el cumplimiento de los compromisos de coinversión y podrá exigir al \\noperador con peso significativo en el mercado que le facilite cada año declaraciones \\nde cumplimiento.\\n5.\\u2003Lo dispuesto en el presente artículo se entiende sin perjuicio de la facultad de la', metadata={'page': 34, 'source': 'data/BOE-A-2022-10757.pdf', 'start_index': 438}), Document(page_content='que corresponda.\\nBOLETÍN OFICIAL DEL ESTADO\\nNúm. 155 Miércoles 29 de junio de 2022 Sec. I.   Pág. 91287\\ncve: BOE-A-2022-10757\\nVerificable en https://www.boe.es', metadata={'page': 34, 'source': 'data/BOE-A-2022-10757.pdf', 'start_index': 0})]\n",
      "question: Explícame el artículo 5. Régimen de libre competencia\n",
      "text: \n",
      "    ### [INST] Instrucción: Eres un experto en jurisdiccion, responde a la pregunta según tus conocimientos de jurisdiccion y el siguiente contexto:\n",
      "    \n",
      "    [Document(page_content='normativa específica sobre las telecomunicaciones relacionadas con el orden público, la \\nseguridad pública, la defensa nacional y la seguridad nacional.\\nTÍTULO II\\nSuministro de redes y prestación de servicios de comunicaciones electrónicas \\nen régimen de libre competencia\\nCAPÍTULO I\\nDisposiciones generales\\nArtículo 5. \\u2003Régimen de libre competencia.\\nLa instalación y explotación de las redes y la prestación de los servicios de', metadata={'page': 16, 'source': 'data/BOE-A-2022-10757.pdf', 'start_index': 866}), Document(page_content='Artículo 4. \\u2003Servicios de telecomunicaciones para la seguridad nacional, la defensa \\nnacional, la seguridad pública, la seguridad vial y la protección civil.\\nTítulo II. \\u2003Suministro de redes y prestación de servicios de comunicaciones \\nelectrónicas en régimen de libre competencia.\\nCapítulo I.\\u2003Disposiciones generales.\\nArtículo 5.\\u2003Régimen de libre competencia.\\nArtículo 6.\\u2003 Requisitos exigibles para el suministro de las redes y la prestación de los \\nservicios de comunicaciones electrónicas.', metadata={'page': 0, 'source': 'data/BOE-A-2022-10757.pdf', 'start_index': 491}), Document(page_content='considere que, debido a las características específicas de tales mercados, no se podría \\nhacer frente de otro modo a dichos problemas de competencia.\\n4.\\u2003La Comisión Nacional de los Mercados y la Competencia deberá supervisar \\ncontinuamente el cumplimiento de los compromisos de coinversión y podrá exigir al \\noperador con peso significativo en el mercado que le facilite cada año declaraciones \\nde cumplimiento.\\n5.\\u2003Lo dispuesto en el presente artículo se entiende sin perjuicio de la facultad de la', metadata={'page': 34, 'source': 'data/BOE-A-2022-10757.pdf', 'start_index': 438}), Document(page_content='que corresponda.\\nBOLETÍN OFICIAL DEL ESTADO\\nNúm. 155 Miércoles 29 de junio de 2022 Sec. I.   Pág. 91287\\ncve: BOE-A-2022-10757\\nVerificable en https://www.boe.es', metadata={'page': 34, 'source': 'data/BOE-A-2022-10757.pdf', 'start_index': 0})]\n",
      "    \n",
      "    ### PREGUNTA:\n",
      "    Explícame el artículo 5. Régimen de libre competencia (responde en castellano) [/INST]\n",
      "      El Artículo 5. \"Régimen de libre competencia\" establece que la instalación y explotación de redes de telecomunicaciones y la prestación de servicios de comunicaciones electrónicas se realizarán en régimen de libre competencia. Sin embargo, debido a las características específicas de este mercado, no se podría hacer frente a problemas de competencia de otra forma. La Comisión Nacional de los Mercados y la Competencia deberá supervisar continuamente el cumplimiento de los compromisos de coinversión y puede exigir al operador con peso significante en el mercado que le facilite anualmente declaraciones de cumplimiento. Este artículo no quita derechos o facultades que correspondan a quienes lo determinen.\n"
     ]
    }
   ],
   "source": [
    "indent = 0\n",
    "for key, value in answer.items():\n",
    "    if isinstance(value, dict):\n",
    "        print('  ' * indent + f'{key}:')\n",
    "        pretty_print_dict(value, indent + 1)\n",
    "    else:\n",
    "        print('  ' * indent + f'{key}: {value}')"
   ]
  },
  {
   "cell_type": "code",
   "execution_count": null,
   "id": "553b2cf7-0732-4c22-85d1-b872d53b56e2",
   "metadata": {},
   "outputs": [],
   "source": []
  },
  {
   "cell_type": "code",
   "execution_count": null,
   "id": "61fb4507",
   "metadata": {},
   "outputs": [],
   "source": []
  }
 ],
 "metadata": {
  "kernelspec": {
   "display_name": "Python 3 (ipykernel)",
   "language": "python",
   "name": "python3"
  },
  "language_info": {
   "codemirror_mode": {
    "name": "ipython",
    "version": 3
   },
   "file_extension": ".py",
   "mimetype": "text/x-python",
   "name": "python",
   "nbconvert_exporter": "python",
   "pygments_lexer": "ipython3",
   "version": "3.11.8"
  }
 },
 "nbformat": 4,
 "nbformat_minor": 5
}
